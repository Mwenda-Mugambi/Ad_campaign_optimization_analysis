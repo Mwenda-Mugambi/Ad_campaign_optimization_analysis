{
 "cells": [
  {
   "cell_type": "markdown",
   "metadata": {},
   "source": [
    "# <span style=\"color: #df006e;\">Web Traffic Prediction for Enhanced Ad Revenue</span>\n",
    "\n",
    "### Final Project Submission\n",
    "\n",
    "**Group members:** <span style=\"color:#ad1380\">**Mwenda Mugambi** | **Frank Kiptoo** | **Yvonne Kamari** | **Julliet Iswana** | **Sylvester Magunda** | **Trevor Mwangi**</span>"
   ]
  },
  {
   "cell_type": "markdown",
   "metadata": {},
   "source": [
    "# Table of Contents\n",
    "1. [Business Overview](#1.-Business-Overview)\n",
    "   \n",
    "\n",
    "2. [Problem Statement](#2.-Problem-Statement)\n",
    "\n",
    "\n",
    "3. [Project Objective](#3.-Project-Objective)\n",
    "\n",
    "\n",
    "4. [Main Objectives](#4.-Main-Objectives)\n",
    "    \n",
    "    4.1 [Specific Objectives](#4.1-Specific-Objectives)\n",
    "    \n",
    "    \n",
    "5. [Data Collection & Understanding](#5.-Data-Collection-&-Understanding)\n",
    "\n",
    "    \n",
    "6. [Data Features](#5.-Data-Features)\n",
    "\n",
    "\n",
    "7. [Success Criteria](#7.-Success-Criteria)\n",
    "\n",
    "    \n",
    "8. [Data Preprocessing](#8.-Data-Preprocessing)\n",
    "    \n",
    "    \n",
    "9. [Exploratory Data Analysis](#9.-Exploratory-Data-Analysis)\n",
    "\n",
    "    9.1 [EFFECTS OF PROMOTIONS & OTHER ANNOUNCEMENTS](#9.1-EFFECTS-OF-PROMOTIONS-&-OTHER-ANNOUNCEMENTS)\n",
    "    \n",
    "    9.2 [EFFECTS OF COVID-19](#9.2-EFFECTS-OF-COVID-19)\n",
    "    \n",
    "    9.3 [EFFECT OF PUBLIC & SCHOOL HOLIDAYS](#9.3-EFFECT-OF-PUBLIC-&-SCHOOL-HOLIDAYS)\n",
    "    \n",
    "    9.4 [Monthly Analysis accross the years](#9.4-Monthly-Analysis-accross-the-years)\n",
    "    \n",
    "    9.5 [Effect of seasons and Months over the years](#9.5-Effect-of-seasons-and-Months-over-the-years)\n",
    "    \n",
    "    9.6 [Days of the week Analysis accross the years](#9.6-Days-of-the-week-Analysis-accross-the-years)\n",
    "    \n",
    "    \n",
    "10. [Correlation Analysis](#9.-Correlation-Analysis)\n",
    "\n",
    "\n",
    "11. [Time Series Modeling](#11.-Time-Series-Modeling)\n",
    "    \n",
    "    11.1 [Data Preprocessing for Modeling](#11.1-Data-Preprocessing-for-Modeling)\n",
    "    \n",
    "    11.2 [Removing Trends](#11.2-Removing-Trends)\n",
    "    \n",
    "    11.3 [Decomposition](#11.3-Decomposition)\n",
    "\n",
    "\n",
    "12. [ARIMA Model](#12.-ARIMA-Model)\n",
    "    \n",
    "    12.1 [Model 1 (Baseline): ARIMA(2,0) Model](#12.1-Model-1-(Baseline):-ARIMA(2,0)-Model)\n",
    "    \n",
    "    12.2 [Model 2: ARIMA(2,1) Model](#12.2-Model-2:-ARIMA(2,1)-Model)\n",
    "    \n",
    "    12.3 [Model 3: SARIMA Model](#12.3-Model-3:-SARIMA-Model)\n",
    "    \n",
    "    12.4 [Model 4: PMDARIMA(auto_arima)](#12.4-Model-4:-PMDARIMA(auto_arima))\n",
    "\n",
    "\n",
    "13. [Evaluation](#13.-Evaluation)\n",
    "\n",
    "\n",
    "14. [Conclusion](#14.-Conclusion)\n",
    "\n",
    "\n",
    "15. [Deployment](#15.-Deployment)"
   ]
  },
  {
   "cell_type": "markdown",
   "metadata": {},
   "source": [
    "## 1. Business Overview"
   ]
  },
  {
   "cell_type": "markdown",
   "metadata": {},
   "source": [
    "[Jambojet](https://www.jambojet.com/en-us/) is a Kenyan low-cost airline that operates in the East African region. It was established in 2014 as a subsidiary of Kenya Airways and has become a dominant force in the aviation industry, setting the standard for budget-friendly and reliable air travel across East Africa.\n",
    "\n",
    "With an impressive [market share of 54% in domestic air travel](https://www.businessdailyafrica.com/bd/corporate/shipping-logistics/jambojet-puts-its-local-business-share-at-54pc--4383624), Jambojet has successfully solidified its presence as a preferred choice for cost-conscious travellers. The recognition bestowed upon them by [winning the World Travel Awards](https://www.worldtravelawards.com/profile-37202-jambojet) for the title of **Africa's Leading Low-Cost Airline in both 2022 and 2023** underscores their commitment to excellence and customer satisfaction.\n",
    "\n",
    "In 2018, Jambojet expanded its reach and revenue streams by launching its advertising product. With their website being a leading online platform, Jambojet recognized the potential of optimizing the space to not only maximize revenue but also enhance advertiser satisfaction."
   ]
  },
  {
   "cell_type": "markdown",
   "metadata": {},
   "source": [
    "## 2. Problem Statement"
   ]
  },
  {
   "cell_type": "markdown",
   "metadata": {},
   "source": [
    "Jambojet, strives to optimize its advertising spaces to maximize revenue and advertiser satisfaction. The unpredictable nature of web traffic patterns poses a significant challenge and hindered effective ad placement, leading to missed revenue opportunities and decreased advertiser satisfaction. "
   ]
  },
  {
   "cell_type": "markdown",
   "metadata": {},
   "source": [
    "## 3. Project Objective"
   ]
  },
  {
   "cell_type": "markdown",
   "metadata": {},
   "source": [
    "Our project aims to revolutionize ad placement strategies through advanced Time Series Forecasting. This will position Jambojet as a leader in leveraging data-driven insights for web traffic optimization and align with industry best practices to not only boost the platforms competitiveness but also contribute to the broader industry shift towards efficient and targeted online advertising solutions."
   ]
  },
  {
   "cell_type": "markdown",
   "metadata": {},
   "source": [
    "### 4. Main Objectives"
   ]
  },
  {
   "cell_type": "markdown",
   "metadata": {},
   "source": [
    "- Develop a Time Series Forecasting model for precise web traffic predictions.\n",
    "- Optimize ad placement strategies based on forecasted traffic patterns.\n",
    "- Maximize ad revenue by strategically positioning ads during peak engagement periods."
   ]
  },
  {
   "cell_type": "markdown",
   "metadata": {},
   "source": [
    "### 4.1 Specific Objectives"
   ]
  },
  {
   "cell_type": "markdown",
   "metadata": {},
   "source": [
    "- Fine-tune forecasting models using historical data from Google Analytics.\n",
    "- Implement segmentation analysis for targeted ad placement strategies.\n",
    "- Provide real-time insights to advertisers through a user-friendly dashboard."
   ]
  },
  {
   "cell_type": "markdown",
   "metadata": {},
   "source": [
    "## 5. Data Collection & Understanding"
   ]
  },
  {
   "cell_type": "markdown",
   "metadata": {},
   "source": [
    "We will employ scraping techniques to extract real-time time series data from Google Analytics, ensuring accuracy and relevance for forecasting models within the context of total and new users per day. The dataset simulates the web traffic behaviors of websites such as [www.jambojet.com](https://www.jambojet.com/en-us/), considering their marketing campaigns, travel restrictions, and other industry factors that may influence web traffic.\n",
    "\n",
    "The dataset consists of time series data of total users ('Simulated_Users') and new users ('Simulated_New_Users') per day, sourced from Google Analytics. It captures daily fluctuations in user engagement, essential for precise forecasting and ad optimization."
   ]
  },
  {
   "cell_type": "markdown",
   "metadata": {},
   "source": [
    "## 6. Data Features"
   ]
  },
  {
   "cell_type": "markdown",
   "metadata": {},
   "source": [
    "The dataset includes variables such as total users, new users, time stamps, and travel-related indicators. These features enable a granular analysis of daily user patterns, essential for understanding travel-specific behaviours."
   ]
  },
  {
   "cell_type": "markdown",
   "metadata": {},
   "source": [
    "## 7. Success Criteria"
   ]
  },
  {
   "cell_type": "markdown",
   "metadata": {},
   "source": [
    "**Root Mean Squared Error (RMSE)** serves as a robust measure to evaluate the accuracy of our time series forecasting models, specifically focusing on predicting daily total users and new users. The significance of achieving a low RMSE lies in its ability to reflect the precision of our forecasting models.\n",
    "\n",
    "Achieving a low RMSE aligns with the broader goal of contributing to the sustainable development of Jambojet's online advertising ecosystem. By providing precise forecasts, the project facilitates strategic decision-making, ensuring that resources are efficiently allocated to enhance the user experience and sustain a thriving advertising platform."
   ]
  },
  {
   "cell_type": "markdown",
   "metadata": {},
   "source": [
    "## Importing the Required Libraries and Models"
   ]
  },
  {
   "cell_type": "code",
   "execution_count": 1,
   "metadata": {},
   "outputs": [],
   "source": [
    "# Analysis libraries\n",
    "import pandas as pd\n",
    "import numpy as np\n",
    "from math import sqrt\n",
    "\n",
    "# Visualization libraries\n",
    "import matplotlib.pyplot as plt\n",
    "%matplotlib inline\n",
    "import seaborn as sns\n",
    "from matplotlib.pylab import rcParams\n",
    "plt.style.use('ggplot')\n",
    "import time\n",
    "\n",
    "# Warning libraries\n",
    "import warnings\n",
    "from statsmodels.tools.sm_exceptions import ConvergenceWarning\n",
    "warnings.filterwarnings('ignore')\n",
    "warnings.simplefilter('ignore', ConvergenceWarning)\n",
    "\n",
    "# Metric libraries\n",
    "from sklearn.metrics import mean_squared_error\n",
    "\n",
    "# Modeling libraries\n",
    "import statsmodels.api as sm\n",
    "import pmdarima as pm\n",
    "from statsmodels.tsa.arima.model import ARIMA\n",
    "from statsmodels.tsa.statespace.sarimax import SARIMAX\n",
    "from pmdarima import auto_arima\n",
    "from pmdarima.model_selection import train_test_split\n",
    "from statsmodels.graphics.tsaplots import plot_acf, plot_pacf\n",
    "from statsmodels.tsa.stattools import adfuller\n",
    "from statsmodels.tsa.seasonal import seasonal_decompose as sd\n",
    "from sklearn.linear_model import LassoLarsCV\n",
    "\n",
    "# Deployment\n",
    "import pickle"
   ]
  },
  {
   "cell_type": "markdown",
   "metadata": {},
   "source": [
    "## 8. Data Preprocessing"
   ]
  },
  {
   "cell_type": "code",
   "execution_count": 2,
   "metadata": {},
   "outputs": [
    {
     "data": {
      "text/html": [
       "<div>\n",
       "<style scoped>\n",
       "    .dataframe tbody tr th:only-of-type {\n",
       "        vertical-align: middle;\n",
       "    }\n",
       "\n",
       "    .dataframe tbody tr th {\n",
       "        vertical-align: top;\n",
       "    }\n",
       "\n",
       "    .dataframe thead th {\n",
       "        text-align: right;\n",
       "    }\n",
       "</style>\n",
       "<table border=\"1\" class=\"dataframe\">\n",
       "  <thead>\n",
       "    <tr style=\"text-align: right;\">\n",
       "      <th></th>\n",
       "      <th>Day_Index</th>\n",
       "      <th>Simulated_Users</th>\n",
       "      <th>Simulated_New_Users</th>\n",
       "    </tr>\n",
       "  </thead>\n",
       "  <tbody>\n",
       "    <tr>\n",
       "      <th>0</th>\n",
       "      <td>2018-01-01</td>\n",
       "      <td>7111</td>\n",
       "      <td>4159</td>\n",
       "    </tr>\n",
       "    <tr>\n",
       "      <th>1</th>\n",
       "      <td>2018-01-02</td>\n",
       "      <td>11451</td>\n",
       "      <td>6840</td>\n",
       "    </tr>\n",
       "    <tr>\n",
       "      <th>2</th>\n",
       "      <td>2018-01-03</td>\n",
       "      <td>11889</td>\n",
       "      <td>6940</td>\n",
       "    </tr>\n",
       "    <tr>\n",
       "      <th>3</th>\n",
       "      <td>2018-01-04</td>\n",
       "      <td>11027</td>\n",
       "      <td>6171</td>\n",
       "    </tr>\n",
       "    <tr>\n",
       "      <th>4</th>\n",
       "      <td>2018-01-05</td>\n",
       "      <td>9767</td>\n",
       "      <td>5348</td>\n",
       "    </tr>\n",
       "    <tr>\n",
       "      <th>...</th>\n",
       "      <td>...</td>\n",
       "      <td>...</td>\n",
       "      <td>...</td>\n",
       "    </tr>\n",
       "    <tr>\n",
       "      <th>1854</th>\n",
       "      <td>2023-01-29</td>\n",
       "      <td>13268</td>\n",
       "      <td>8389</td>\n",
       "    </tr>\n",
       "    <tr>\n",
       "      <th>1855</th>\n",
       "      <td>2023-01-30</td>\n",
       "      <td>17711</td>\n",
       "      <td>10424</td>\n",
       "    </tr>\n",
       "    <tr>\n",
       "      <th>1856</th>\n",
       "      <td>2023-01-31</td>\n",
       "      <td>17734</td>\n",
       "      <td>10567</td>\n",
       "    </tr>\n",
       "    <tr>\n",
       "      <th>1857</th>\n",
       "      <td>2023-02-01</td>\n",
       "      <td>18907</td>\n",
       "      <td>11195</td>\n",
       "    </tr>\n",
       "    <tr>\n",
       "      <th>1858</th>\n",
       "      <td>NaT</td>\n",
       "      <td>23341472</td>\n",
       "      <td>14964617</td>\n",
       "    </tr>\n",
       "  </tbody>\n",
       "</table>\n",
       "<p>1859 rows × 3 columns</p>\n",
       "</div>"
      ],
      "text/plain": [
       "      Day_Index  Simulated_Users  Simulated_New_Users\n",
       "0    2018-01-01             7111                 4159\n",
       "1    2018-01-02            11451                 6840\n",
       "2    2018-01-03            11889                 6940\n",
       "3    2018-01-04            11027                 6171\n",
       "4    2018-01-05             9767                 5348\n",
       "...         ...              ...                  ...\n",
       "1854 2023-01-29            13268                 8389\n",
       "1855 2023-01-30            17711                10424\n",
       "1856 2023-01-31            17734                10567\n",
       "1857 2023-02-01            18907                11195\n",
       "1858        NaT         23341472             14964617\n",
       "\n",
       "[1859 rows x 3 columns]"
      ]
     },
     "execution_count": 2,
     "metadata": {},
     "output_type": "execute_result"
    }
   ],
   "source": [
    "df = pd.read_excel(\"Data/Simulated_Web_traffic.xls\")\n",
    "df"
   ]
  },
  {
   "cell_type": "code",
   "execution_count": 3,
   "metadata": {},
   "outputs": [
    {
     "data": {
      "text/plain": [
       "(Timestamp('2018-01-01 00:00:00'), Timestamp('2023-02-01 00:00:00'))"
      ]
     },
     "execution_count": 3,
     "metadata": {},
     "output_type": "execute_result"
    }
   ],
   "source": [
    "# Check the range of 'Day_Index'\n",
    "df['Day_Index'].min(), df['Day_Index'].max()"
   ]
  },
  {
   "cell_type": "markdown",
   "metadata": {},
   "source": [
    "The dataset comprises 1,859 entries across three columns: 'Day_Index', 'Simulated_Users,' and 'Simulated_New_Users.' 'Day_Index' which represent the total and new simulated users for each day, and the date respectively. \n",
    "\n",
    "The scope of the data ranges from January 1, 2018, to February 1, 2023."
   ]
  },
  {
   "cell_type": "code",
   "execution_count": 4,
   "metadata": {},
   "outputs": [
    {
     "name": "stdout",
     "output_type": "stream",
     "text": [
      "<class 'pandas.core.frame.DataFrame'>\n",
      "RangeIndex: 1859 entries, 0 to 1858\n",
      "Data columns (total 3 columns):\n",
      " #   Column               Non-Null Count  Dtype         \n",
      "---  ------               --------------  -----         \n",
      " 0   Day_Index            1858 non-null   datetime64[ns]\n",
      " 1   Simulated_Users      1859 non-null   int64         \n",
      " 2   Simulated_New_Users  1859 non-null   int64         \n",
      "dtypes: datetime64[ns](1), int64(2)\n",
      "memory usage: 43.7 KB\n"
     ]
    }
   ],
   "source": [
    "# Display summary information about the dataframe\n",
    "df.info()"
   ]
  },
  {
   "cell_type": "markdown",
   "metadata": {},
   "source": [
    "There is notably one missing value in the 'Day_Index' column, represented by the non-null count of 1858, and no missing values in the numerical columns ('Simulated_Users' and 'Simulated_New_Users'). \n",
    "\n",
    "The 'Day_Index' column is of the datetime64 data type, while 'Simulated_Users' and 'Simulated. These are the expected data types, therefore no conversion of the variables is required."
   ]
  },
  {
   "cell_type": "code",
   "execution_count": 5,
   "metadata": {
    "scrolled": true
   },
   "outputs": [
    {
     "data": {
      "text/html": [
       "<div>\n",
       "<style scoped>\n",
       "    .dataframe tbody tr th:only-of-type {\n",
       "        vertical-align: middle;\n",
       "    }\n",
       "\n",
       "    .dataframe tbody tr th {\n",
       "        vertical-align: top;\n",
       "    }\n",
       "\n",
       "    .dataframe thead th {\n",
       "        text-align: right;\n",
       "    }\n",
       "</style>\n",
       "<table border=\"1\" class=\"dataframe\">\n",
       "  <thead>\n",
       "    <tr style=\"text-align: right;\">\n",
       "      <th></th>\n",
       "      <th>Day_Index</th>\n",
       "      <th>Simulated_Users</th>\n",
       "      <th>Simulated_New_Users</th>\n",
       "    </tr>\n",
       "  </thead>\n",
       "  <tbody>\n",
       "    <tr>\n",
       "      <th>1858</th>\n",
       "      <td>NaT</td>\n",
       "      <td>23341472</td>\n",
       "      <td>14964617</td>\n",
       "    </tr>\n",
       "  </tbody>\n",
       "</table>\n",
       "</div>"
      ],
      "text/plain": [
       "     Day_Index  Simulated_Users  Simulated_New_Users\n",
       "1858       NaT         23341472             14964617"
      ]
     },
     "execution_count": 5,
     "metadata": {},
     "output_type": "execute_result"
    }
   ],
   "source": [
    "# Display the row with the missing value in 'Day_Index'\n",
    "df[df['Day_Index'].isnull()]"
   ]
  },
  {
   "cell_type": "code",
   "execution_count": 6,
   "metadata": {},
   "outputs": [],
   "source": [
    "# Remove rows with missing values in 'Day_Index'\n",
    "df = df.dropna(subset=['Day_Index'])"
   ]
  },
  {
   "cell_type": "markdown",
   "metadata": {},
   "source": [
    "The row at index 1858 is identified as the one with the missing value in the 'Day_Index' column. In this row, the 'Day_Index' is represented as 'NaT' (Not a Time), and both 'Simulated_Users' and 'Simulated_New_Users' are marked as 'NaN' (Not a Number). \n",
    "\n",
    "Given the impracticality of accurately filling these missing values, we opt to drop the entire row. This decision is made to ensure data integrity for subsequent analysis and model development."
   ]
  },
  {
   "cell_type": "code",
   "execution_count": 7,
   "metadata": {},
   "outputs": [
    {
     "name": "stdout",
     "output_type": "stream",
     "text": [
      "Are there missing values in the dataframe? False\n"
     ]
    }
   ],
   "source": [
    "# Confirm whether there are missing values in the dataframe\n",
    "print(\"Are there missing values in the dataframe?\",\n",
    "      df.isnull().values.any())"
   ]
  },
  {
   "cell_type": "code",
   "execution_count": 8,
   "metadata": {},
   "outputs": [
    {
     "data": {
      "text/html": [
       "<div>\n",
       "<style scoped>\n",
       "    .dataframe tbody tr th:only-of-type {\n",
       "        vertical-align: middle;\n",
       "    }\n",
       "\n",
       "    .dataframe tbody tr th {\n",
       "        vertical-align: top;\n",
       "    }\n",
       "\n",
       "    .dataframe thead th {\n",
       "        text-align: right;\n",
       "    }\n",
       "</style>\n",
       "<table border=\"1\" class=\"dataframe\">\n",
       "  <thead>\n",
       "    <tr style=\"text-align: right;\">\n",
       "      <th></th>\n",
       "      <th>Day_Index</th>\n",
       "      <th>Simulated_Users</th>\n",
       "      <th>Simulated_New_Users</th>\n",
       "    </tr>\n",
       "  </thead>\n",
       "  <tbody>\n",
       "  </tbody>\n",
       "</table>\n",
       "</div>"
      ],
      "text/plain": [
       "Empty DataFrame\n",
       "Columns: [Day_Index, Simulated_Users, Simulated_New_Users]\n",
       "Index: []"
      ]
     },
     "execution_count": 8,
     "metadata": {},
     "output_type": "execute_result"
    }
   ],
   "source": [
    "# Check for duplicates\n",
    "df[df.duplicated()]"
   ]
  },
  {
   "cell_type": "markdown",
   "metadata": {},
   "source": [
    "The dataset does not contain any duplicates, indicating that each entry within the dataset is unique."
   ]
  },
  {
   "cell_type": "code",
   "execution_count": 9,
   "metadata": {},
   "outputs": [
    {
     "data": {
      "text/html": [
       "<div>\n",
       "<style scoped>\n",
       "    .dataframe tbody tr th:only-of-type {\n",
       "        vertical-align: middle;\n",
       "    }\n",
       "\n",
       "    .dataframe tbody tr th {\n",
       "        vertical-align: top;\n",
       "    }\n",
       "\n",
       "    .dataframe thead th {\n",
       "        text-align: right;\n",
       "    }\n",
       "</style>\n",
       "<table border=\"1\" class=\"dataframe\">\n",
       "  <thead>\n",
       "    <tr style=\"text-align: right;\">\n",
       "      <th></th>\n",
       "      <th>Day_Index</th>\n",
       "      <th>Simulated_Users</th>\n",
       "      <th>Simulated_New_Users</th>\n",
       "    </tr>\n",
       "  </thead>\n",
       "  <tbody>\n",
       "    <tr>\n",
       "      <th>count</th>\n",
       "      <td>1858</td>\n",
       "      <td>1858.000000</td>\n",
       "      <td>1858.000000</td>\n",
       "    </tr>\n",
       "    <tr>\n",
       "      <th>mean</th>\n",
       "      <td>2020-07-17 12:00:00</td>\n",
       "      <td>12562.222282</td>\n",
       "      <td>8053.693757</td>\n",
       "    </tr>\n",
       "    <tr>\n",
       "      <th>min</th>\n",
       "      <td>2018-01-01 00:00:00</td>\n",
       "      <td>340.000000</td>\n",
       "      <td>248.000000</td>\n",
       "    </tr>\n",
       "    <tr>\n",
       "      <th>25%</th>\n",
       "      <td>2019-04-10 06:00:00</td>\n",
       "      <td>9511.750000</td>\n",
       "      <td>5719.250000</td>\n",
       "    </tr>\n",
       "    <tr>\n",
       "      <th>50%</th>\n",
       "      <td>2020-07-17 12:00:00</td>\n",
       "      <td>12344.500000</td>\n",
       "      <td>7544.500000</td>\n",
       "    </tr>\n",
       "    <tr>\n",
       "      <th>75%</th>\n",
       "      <td>2021-10-24 18:00:00</td>\n",
       "      <td>15208.250000</td>\n",
       "      <td>9550.750000</td>\n",
       "    </tr>\n",
       "    <tr>\n",
       "      <th>max</th>\n",
       "      <td>2023-02-01 00:00:00</td>\n",
       "      <td>110612.000000</td>\n",
       "      <td>117086.000000</td>\n",
       "    </tr>\n",
       "    <tr>\n",
       "      <th>std</th>\n",
       "      <td>NaN</td>\n",
       "      <td>6390.231945</td>\n",
       "      <td>5469.044221</td>\n",
       "    </tr>\n",
       "  </tbody>\n",
       "</table>\n",
       "</div>"
      ],
      "text/plain": [
       "                 Day_Index  Simulated_Users  Simulated_New_Users\n",
       "count                 1858      1858.000000          1858.000000\n",
       "mean   2020-07-17 12:00:00     12562.222282          8053.693757\n",
       "min    2018-01-01 00:00:00       340.000000           248.000000\n",
       "25%    2019-04-10 06:00:00      9511.750000          5719.250000\n",
       "50%    2020-07-17 12:00:00     12344.500000          7544.500000\n",
       "75%    2021-10-24 18:00:00     15208.250000          9550.750000\n",
       "max    2023-02-01 00:00:00    110612.000000        117086.000000\n",
       "std                    NaN      6390.231945          5469.044221"
      ]
     },
     "execution_count": 9,
     "metadata": {},
     "output_type": "execute_result"
    }
   ],
   "source": [
    "# Display summary statistics\n",
    "df.describe()"
   ]
  },
  {
   "cell_type": "markdown",
   "metadata": {},
   "source": [
    "The summary statistics for Jambojet's website traffic provide insights for both 'Simulated_Users' (total users) and 'Simulated_New_Users' (new users). In terms of total users, the average daily count stands at approximately 12,562, showcasing significant variability with a standard deviation of 6,390. The daily total user range spans from a minimum of 340 to a maximum of 110,612, illustrating a broad spectrum of user interactions and engagement levels.\n",
    "\n",
    "Turning attention to new users, the average daily count registers around 8,054, underscoring variability in daily counts with a standard deviation of 5,469. The daily new user range extends from a minimum of 248 to a maximum of 117,086, highlighting the dynamic and fluctuating nature of new user acquisition. "
   ]
  },
  {
   "cell_type": "markdown",
   "metadata": {},
   "source": [
    "## 9. Exploratory Data Analysis"
   ]
  },
  {
   "cell_type": "code",
   "execution_count": 10,
   "metadata": {},
   "outputs": [
    {
     "name": "stdout",
     "output_type": "stream",
     "text": [
      "Total 'Simulated_Users' to Jambojet's website: 23340609\n",
      "Total 'Simulated_New_Users' to Jambojet's website: 14963763\n"
     ]
    }
   ],
   "source": [
    "# Calculate the total 'Simulated_Users' and 'Simulated_New_Users'\n",
    "total_users = df['Simulated_Users'].sum()\n",
    "total_new_users = df['Simulated_New_Users'].sum()\n",
    "\n",
    "# Print the results\n",
    "print(f\"Total 'Simulated_Users' to Jambojet's website: {total_users}\")\n",
    "print(f\"Total 'Simulated_New_Users' to Jambojet's website: {total_new_users}\")"
   ]
  },
  {
   "cell_type": "markdown",
   "metadata": {},
   "source": [
    "Over the period from January 1, 2018, to February 1, 2023, the simulated web traffic to Jambojet's website totaled approximately 23,340,609 users. Additionally, during the same period, there were approximately 14,963,763 new users simulated to have visited the website."
   ]
  },
  {
   "cell_type": "code",
   "execution_count": 11,
   "metadata": {
    "scrolled": false
   },
   "outputs": [
    {
     "ename": "ValueError",
     "evalue": "Multi-dimensional indexing (e.g. `obj[:, None]`) is no longer supported. Convert to a numpy array before indexing instead.",
     "output_type": "error",
     "traceback": [
      "\u001b[0;31m---------------------------------------------------------------------------\u001b[0m",
      "\u001b[0;31mValueError\u001b[0m                                Traceback (most recent call last)",
      "\u001b[0;32m<ipython-input-11-d6faaee882fc>\u001b[0m in \u001b[0;36m<module>\u001b[0;34m\u001b[0m\n\u001b[1;32m      2\u001b[0m \u001b[0mplt\u001b[0m\u001b[0;34m.\u001b[0m\u001b[0mfigure\u001b[0m\u001b[0;34m(\u001b[0m\u001b[0mfigsize\u001b[0m\u001b[0;34m=\u001b[0m\u001b[0;34m(\u001b[0m\u001b[0;36m12\u001b[0m\u001b[0;34m,\u001b[0m \u001b[0;36m6\u001b[0m\u001b[0;34m)\u001b[0m\u001b[0;34m)\u001b[0m\u001b[0;34m\u001b[0m\u001b[0;34m\u001b[0m\u001b[0m\n\u001b[1;32m      3\u001b[0m \u001b[0mplt\u001b[0m\u001b[0;34m.\u001b[0m\u001b[0msubplot\u001b[0m\u001b[0;34m(\u001b[0m\u001b[0;36m1\u001b[0m\u001b[0;34m,\u001b[0m \u001b[0;36m2\u001b[0m\u001b[0;34m,\u001b[0m \u001b[0;36m1\u001b[0m\u001b[0;34m)\u001b[0m\u001b[0;34m\u001b[0m\u001b[0;34m\u001b[0m\u001b[0m\n\u001b[0;32m----> 4\u001b[0;31m \u001b[0msns\u001b[0m\u001b[0;34m.\u001b[0m\u001b[0mhistplot\u001b[0m\u001b[0;34m(\u001b[0m\u001b[0mdf\u001b[0m\u001b[0;34m[\u001b[0m\u001b[0;34m'Simulated_Users'\u001b[0m\u001b[0;34m]\u001b[0m\u001b[0;34m,\u001b[0m \u001b[0mbins\u001b[0m\u001b[0;34m=\u001b[0m\u001b[0;36m30\u001b[0m\u001b[0;34m,\u001b[0m \u001b[0mkde\u001b[0m\u001b[0;34m=\u001b[0m\u001b[0;32mTrue\u001b[0m\u001b[0;34m,\u001b[0m \u001b[0mcolor\u001b[0m\u001b[0;34m=\u001b[0m\u001b[0;34m'skyblue'\u001b[0m\u001b[0;34m)\u001b[0m\u001b[0;34m\u001b[0m\u001b[0;34m\u001b[0m\u001b[0m\n\u001b[0m\u001b[1;32m      5\u001b[0m \u001b[0mplt\u001b[0m\u001b[0;34m.\u001b[0m\u001b[0mtitle\u001b[0m\u001b[0;34m(\u001b[0m\u001b[0;34m'Distribution of Simulated_Users'\u001b[0m\u001b[0;34m)\u001b[0m\u001b[0;34m\u001b[0m\u001b[0;34m\u001b[0m\u001b[0m\n\u001b[1;32m      6\u001b[0m \u001b[0;34m\u001b[0m\u001b[0m\n",
      "\u001b[0;32m~/anaconda3/envs/learn-env/lib/python3.8/site-packages/seaborn/distributions.py\u001b[0m in \u001b[0;36mhistplot\u001b[0;34m(data, x, y, hue, weights, stat, bins, binwidth, binrange, discrete, cumulative, common_bins, common_norm, multiple, element, fill, shrink, kde, kde_kws, line_kws, thresh, pthresh, pmax, cbar, cbar_ax, cbar_kws, palette, hue_order, hue_norm, color, log_scale, legend, ax, **kwargs)\u001b[0m\n\u001b[1;32m   1420\u001b[0m     \u001b[0;32mif\u001b[0m \u001b[0mp\u001b[0m\u001b[0;34m.\u001b[0m\u001b[0munivariate\u001b[0m\u001b[0;34m:\u001b[0m\u001b[0;34m\u001b[0m\u001b[0;34m\u001b[0m\u001b[0m\n\u001b[1;32m   1421\u001b[0m \u001b[0;34m\u001b[0m\u001b[0m\n\u001b[0;32m-> 1422\u001b[0;31m         p.plot_univariate_histogram(\n\u001b[0m\u001b[1;32m   1423\u001b[0m             \u001b[0mmultiple\u001b[0m\u001b[0;34m=\u001b[0m\u001b[0mmultiple\u001b[0m\u001b[0;34m,\u001b[0m\u001b[0;34m\u001b[0m\u001b[0;34m\u001b[0m\u001b[0m\n\u001b[1;32m   1424\u001b[0m             \u001b[0melement\u001b[0m\u001b[0;34m=\u001b[0m\u001b[0melement\u001b[0m\u001b[0;34m,\u001b[0m\u001b[0;34m\u001b[0m\u001b[0;34m\u001b[0m\u001b[0m\n",
      "\u001b[0;32m~/anaconda3/envs/learn-env/lib/python3.8/site-packages/seaborn/distributions.py\u001b[0m in \u001b[0;36mplot_univariate_histogram\u001b[0;34m(self, multiple, element, fill, common_norm, common_bins, shrink, kde, kde_kws, color, legend, line_kws, estimate_kws, **plot_kws)\u001b[0m\n\u001b[1;32m    631\u001b[0m \u001b[0;34m\u001b[0m\u001b[0m\n\u001b[1;32m    632\u001b[0m                 \u001b[0mline_kws\u001b[0m\u001b[0;34m[\u001b[0m\u001b[0;34m\"color\"\u001b[0m\u001b[0;34m]\u001b[0m \u001b[0;34m=\u001b[0m \u001b[0mto_rgba\u001b[0m\u001b[0;34m(\u001b[0m\u001b[0mcolor\u001b[0m\u001b[0;34m,\u001b[0m \u001b[0;36m1\u001b[0m\u001b[0;34m)\u001b[0m\u001b[0;34m\u001b[0m\u001b[0;34m\u001b[0m\u001b[0m\n\u001b[0;32m--> 633\u001b[0;31m                 line, = ax.plot(\n\u001b[0m\u001b[1;32m    634\u001b[0m                     \u001b[0;34m*\u001b[0m\u001b[0mline_args\u001b[0m\u001b[0;34m,\u001b[0m \u001b[0;34m**\u001b[0m\u001b[0mline_kws\u001b[0m\u001b[0;34m,\u001b[0m\u001b[0;34m\u001b[0m\u001b[0;34m\u001b[0m\u001b[0m\n\u001b[1;32m    635\u001b[0m                 )\n",
      "\u001b[0;32m~/anaconda3/envs/learn-env/lib/python3.8/site-packages/matplotlib/axes/_axes.py\u001b[0m in \u001b[0;36mplot\u001b[0;34m(self, scalex, scaley, data, *args, **kwargs)\u001b[0m\n\u001b[1;32m   1741\u001b[0m         \"\"\"\n\u001b[1;32m   1742\u001b[0m         \u001b[0mkwargs\u001b[0m \u001b[0;34m=\u001b[0m \u001b[0mcbook\u001b[0m\u001b[0;34m.\u001b[0m\u001b[0mnormalize_kwargs\u001b[0m\u001b[0;34m(\u001b[0m\u001b[0mkwargs\u001b[0m\u001b[0;34m,\u001b[0m \u001b[0mmlines\u001b[0m\u001b[0;34m.\u001b[0m\u001b[0mLine2D\u001b[0m\u001b[0;34m)\u001b[0m\u001b[0;34m\u001b[0m\u001b[0;34m\u001b[0m\u001b[0m\n\u001b[0;32m-> 1743\u001b[0;31m         \u001b[0mlines\u001b[0m \u001b[0;34m=\u001b[0m \u001b[0;34m[\u001b[0m\u001b[0;34m*\u001b[0m\u001b[0mself\u001b[0m\u001b[0;34m.\u001b[0m\u001b[0m_get_lines\u001b[0m\u001b[0;34m(\u001b[0m\u001b[0;34m*\u001b[0m\u001b[0margs\u001b[0m\u001b[0;34m,\u001b[0m \u001b[0mdata\u001b[0m\u001b[0;34m=\u001b[0m\u001b[0mdata\u001b[0m\u001b[0;34m,\u001b[0m \u001b[0;34m**\u001b[0m\u001b[0mkwargs\u001b[0m\u001b[0;34m)\u001b[0m\u001b[0;34m]\u001b[0m\u001b[0;34m\u001b[0m\u001b[0;34m\u001b[0m\u001b[0m\n\u001b[0m\u001b[1;32m   1744\u001b[0m         \u001b[0;32mfor\u001b[0m \u001b[0mline\u001b[0m \u001b[0;32min\u001b[0m \u001b[0mlines\u001b[0m\u001b[0;34m:\u001b[0m\u001b[0;34m\u001b[0m\u001b[0;34m\u001b[0m\u001b[0m\n\u001b[1;32m   1745\u001b[0m             \u001b[0mself\u001b[0m\u001b[0;34m.\u001b[0m\u001b[0madd_line\u001b[0m\u001b[0;34m(\u001b[0m\u001b[0mline\u001b[0m\u001b[0;34m)\u001b[0m\u001b[0;34m\u001b[0m\u001b[0;34m\u001b[0m\u001b[0m\n",
      "\u001b[0;32m~/anaconda3/envs/learn-env/lib/python3.8/site-packages/matplotlib/axes/_base.py\u001b[0m in \u001b[0;36m__call__\u001b[0;34m(self, data, *args, **kwargs)\u001b[0m\n\u001b[1;32m    271\u001b[0m                 \u001b[0mthis\u001b[0m \u001b[0;34m+=\u001b[0m \u001b[0margs\u001b[0m\u001b[0;34m[\u001b[0m\u001b[0;36m0\u001b[0m\u001b[0;34m]\u001b[0m\u001b[0;34m,\u001b[0m\u001b[0;34m\u001b[0m\u001b[0;34m\u001b[0m\u001b[0m\n\u001b[1;32m    272\u001b[0m                 \u001b[0margs\u001b[0m \u001b[0;34m=\u001b[0m \u001b[0margs\u001b[0m\u001b[0;34m[\u001b[0m\u001b[0;36m1\u001b[0m\u001b[0;34m:\u001b[0m\u001b[0;34m]\u001b[0m\u001b[0;34m\u001b[0m\u001b[0;34m\u001b[0m\u001b[0m\n\u001b[0;32m--> 273\u001b[0;31m             \u001b[0;32myield\u001b[0m \u001b[0;32mfrom\u001b[0m \u001b[0mself\u001b[0m\u001b[0;34m.\u001b[0m\u001b[0m_plot_args\u001b[0m\u001b[0;34m(\u001b[0m\u001b[0mthis\u001b[0m\u001b[0;34m,\u001b[0m \u001b[0mkwargs\u001b[0m\u001b[0;34m)\u001b[0m\u001b[0;34m\u001b[0m\u001b[0;34m\u001b[0m\u001b[0m\n\u001b[0m\u001b[1;32m    274\u001b[0m \u001b[0;34m\u001b[0m\u001b[0m\n\u001b[1;32m    275\u001b[0m     \u001b[0;32mdef\u001b[0m \u001b[0mget_next_color\u001b[0m\u001b[0;34m(\u001b[0m\u001b[0mself\u001b[0m\u001b[0;34m)\u001b[0m\u001b[0;34m:\u001b[0m\u001b[0;34m\u001b[0m\u001b[0;34m\u001b[0m\u001b[0m\n",
      "\u001b[0;32m~/anaconda3/envs/learn-env/lib/python3.8/site-packages/matplotlib/axes/_base.py\u001b[0m in \u001b[0;36m_plot_args\u001b[0;34m(self, tup, kwargs)\u001b[0m\n\u001b[1;32m    386\u001b[0m \u001b[0;34m\u001b[0m\u001b[0m\n\u001b[1;32m    387\u001b[0m         \u001b[0;32mif\u001b[0m \u001b[0mlen\u001b[0m\u001b[0;34m(\u001b[0m\u001b[0mtup\u001b[0m\u001b[0;34m)\u001b[0m \u001b[0;34m==\u001b[0m \u001b[0;36m2\u001b[0m\u001b[0;34m:\u001b[0m\u001b[0;34m\u001b[0m\u001b[0;34m\u001b[0m\u001b[0m\n\u001b[0;32m--> 388\u001b[0;31m             \u001b[0mx\u001b[0m \u001b[0;34m=\u001b[0m \u001b[0m_check_1d\u001b[0m\u001b[0;34m(\u001b[0m\u001b[0mtup\u001b[0m\u001b[0;34m[\u001b[0m\u001b[0;36m0\u001b[0m\u001b[0;34m]\u001b[0m\u001b[0;34m)\u001b[0m\u001b[0;34m\u001b[0m\u001b[0;34m\u001b[0m\u001b[0m\n\u001b[0m\u001b[1;32m    389\u001b[0m             \u001b[0my\u001b[0m \u001b[0;34m=\u001b[0m \u001b[0m_check_1d\u001b[0m\u001b[0;34m(\u001b[0m\u001b[0mtup\u001b[0m\u001b[0;34m[\u001b[0m\u001b[0;34m-\u001b[0m\u001b[0;36m1\u001b[0m\u001b[0;34m]\u001b[0m\u001b[0;34m)\u001b[0m\u001b[0;34m\u001b[0m\u001b[0;34m\u001b[0m\u001b[0m\n\u001b[1;32m    390\u001b[0m         \u001b[0;32melse\u001b[0m\u001b[0;34m:\u001b[0m\u001b[0;34m\u001b[0m\u001b[0;34m\u001b[0m\u001b[0m\n",
      "\u001b[0;32m~/anaconda3/envs/learn-env/lib/python3.8/site-packages/matplotlib/cbook/__init__.py\u001b[0m in \u001b[0;36m_check_1d\u001b[0;34m(x)\u001b[0m\n\u001b[1;32m   1316\u001b[0m                     message='Support for multi-dimensional indexing')\n\u001b[1;32m   1317\u001b[0m \u001b[0;34m\u001b[0m\u001b[0m\n\u001b[0;32m-> 1318\u001b[0;31m                 \u001b[0mndim\u001b[0m \u001b[0;34m=\u001b[0m \u001b[0mx\u001b[0m\u001b[0;34m[\u001b[0m\u001b[0;34m:\u001b[0m\u001b[0;34m,\u001b[0m \u001b[0;32mNone\u001b[0m\u001b[0;34m]\u001b[0m\u001b[0;34m.\u001b[0m\u001b[0mndim\u001b[0m\u001b[0;34m\u001b[0m\u001b[0;34m\u001b[0m\u001b[0m\n\u001b[0m\u001b[1;32m   1319\u001b[0m                 \u001b[0;31m# we have definitely hit a pandas index or series object\u001b[0m\u001b[0;34m\u001b[0m\u001b[0;34m\u001b[0m\u001b[0;34m\u001b[0m\u001b[0m\n\u001b[1;32m   1320\u001b[0m                 \u001b[0;31m# cast to a numpy array.\u001b[0m\u001b[0;34m\u001b[0m\u001b[0;34m\u001b[0m\u001b[0;34m\u001b[0m\u001b[0m\n",
      "\u001b[0;32m~/anaconda3/envs/learn-env/lib/python3.8/site-packages/pandas/core/indexes/base.py\u001b[0m in \u001b[0;36m__getitem__\u001b[0;34m(self, key)\u001b[0m\n\u001b[1;32m   5197\u001b[0m         \u001b[0;31m# Because we ruled out integer above, we always get an arraylike here\u001b[0m\u001b[0;34m\u001b[0m\u001b[0;34m\u001b[0m\u001b[0;34m\u001b[0m\u001b[0m\n\u001b[1;32m   5198\u001b[0m         \u001b[0;32mif\u001b[0m \u001b[0mresult\u001b[0m\u001b[0;34m.\u001b[0m\u001b[0mndim\u001b[0m \u001b[0;34m>\u001b[0m \u001b[0;36m1\u001b[0m\u001b[0;34m:\u001b[0m\u001b[0;34m\u001b[0m\u001b[0;34m\u001b[0m\u001b[0m\n\u001b[0;32m-> 5199\u001b[0;31m             \u001b[0mdisallow_ndim_indexing\u001b[0m\u001b[0;34m(\u001b[0m\u001b[0mresult\u001b[0m\u001b[0;34m)\u001b[0m\u001b[0;34m\u001b[0m\u001b[0;34m\u001b[0m\u001b[0m\n\u001b[0m\u001b[1;32m   5200\u001b[0m \u001b[0;34m\u001b[0m\u001b[0m\n\u001b[1;32m   5201\u001b[0m         \u001b[0;31m# NB: Using _constructor._simple_new would break if MultiIndex\u001b[0m\u001b[0;34m\u001b[0m\u001b[0;34m\u001b[0m\u001b[0;34m\u001b[0m\u001b[0m\n",
      "\u001b[0;32m~/anaconda3/envs/learn-env/lib/python3.8/site-packages/pandas/core/indexers/utils.py\u001b[0m in \u001b[0;36mdisallow_ndim_indexing\u001b[0;34m(result)\u001b[0m\n\u001b[1;32m    341\u001b[0m     \"\"\"\n\u001b[1;32m    342\u001b[0m     \u001b[0;32mif\u001b[0m \u001b[0mnp\u001b[0m\u001b[0;34m.\u001b[0m\u001b[0mndim\u001b[0m\u001b[0;34m(\u001b[0m\u001b[0mresult\u001b[0m\u001b[0;34m)\u001b[0m \u001b[0;34m>\u001b[0m \u001b[0;36m1\u001b[0m\u001b[0;34m:\u001b[0m\u001b[0;34m\u001b[0m\u001b[0;34m\u001b[0m\u001b[0m\n\u001b[0;32m--> 343\u001b[0;31m         raise ValueError(\n\u001b[0m\u001b[1;32m    344\u001b[0m             \u001b[0;34m\"Multi-dimensional indexing (e.g. `obj[:, None]`) is no longer \"\u001b[0m\u001b[0;34m\u001b[0m\u001b[0;34m\u001b[0m\u001b[0m\n\u001b[1;32m    345\u001b[0m             \u001b[0;34m\"supported. Convert to a numpy array before indexing instead.\"\u001b[0m\u001b[0;34m\u001b[0m\u001b[0;34m\u001b[0m\u001b[0m\n",
      "\u001b[0;31mValueError\u001b[0m: Multi-dimensional indexing (e.g. `obj[:, None]`) is no longer supported. Convert to a numpy array before indexing instead."
     ]
    },
    {
     "data": {
      "image/png": "[encoded data removed]",
      "text/plain": [
       "<Figure size 864x432 with 1 Axes>"
      ]
     },
     "metadata": {},
     "output_type": "display_data"
    }
   ],
   "source": [
    "# Distribution of Simulated_Users and Simulated_New_Users\n",
    "plt.figure(figsize=(12, 6))\n",
    "plt.subplot(1, 2, 1)\n",
    "sns.histplot(df['Simulated_Users'], bins=30, kde=True, color='skyblue')\n",
    "plt.title('Distribution of Simulated_Users')\n",
    "\n",
    "plt.subplot(1, 2, 2)\n",
    "sns.histplot(df['Simulated_New_Users'], bins=30, kde=True, color='salmon')\n",
    "plt.title('Distribution of Simulated_New_Users')\n",
    "\n",
    "plt.tight_layout()\n",
    "plt.show()"
   ]
  },
  {
   "cell_type": "markdown",
   "metadata": {},
   "source": [
    "The 'Simulated_Users' and 'Simulated_New_Users' distributions display a positive skew. \n",
    "\n",
    "The simulated traffic analysis for Jambojet's website reveals a daily range of typical engagement, with total users fluctuating between 340 and 22,000 and new users varying from 248 to 20,000. A closer examination of the distribution brings attention to peak periods, showing that the highest daily total user traffic is concentrated between 14,000 and 18,000 users. In parallel, the peak influx of new users is observed within the range of 4,000 to 8,000 per day."
   ]
  },
  {
   "cell_type": "code",
   "execution_count": null,
   "metadata": {
    "scrolled": false
   },
   "outputs": [],
   "source": [
    "# Box plots for Simulated_Users and Simulated_New_Users\n",
    "plt.figure(figsize=(12, 6))\n",
    "plt.subplot(1, 2, 1)\n",
    "sns.boxplot(y='Simulated_Users', data=df, color='#df006e')\n",
    "plt.title('Boxplot of Simulated_Users')\n",
    "\n",
    "plt.subplot(1, 2, 2)\n",
    "sns.boxplot(y='Simulated_New_Users', data=df, color='#ffdd00')\n",
    "plt.title('Boxplot of Simulated_New_Users')\n",
    "\n",
    "plt.tight_layout()\n",
    "plt.show()"
   ]
  },
  {
   "cell_type": "markdown",
   "metadata": {},
   "source": [
    "The maximum value for 'Simulated_Users' reaching 110,612 is strikingly higher than the third quartile (Q3) of 15,208.25. This substantial difference strongly indicates the potential presence of outliers, particularly on the higher end of the distribution. Data points beyond the upper whisker of the boxplot for 'Simulated_Users' may be considered outliers, pointing to unusually high daily user counts.\n",
    "\n",
    "Similarly, 'Simulated_New_Users' presents a maximum value of 117,086, which significantly surpasses the third quartile (Q3) of 9,550.75. This divergence between the maximum value and Q3 strongly suggests potential outliers on the higher end for new user counts. Data points beyond the upper whisker of the boxplot for 'Simulated_New_Users' may be indicative of unusually high daily values for new user acquisition.\n",
    "\n",
    "Identification of these outliers, particularly on the higher end, raises concerns about the potential skewing of the distribution and subsequent impacts on our overall analysis. Furter investigation into the nature of these outliers and implementation of outlier-handling techniques is therefore crucial in ensuring the accuracy of our time series forecasts."
   ]
  },
  {
   "cell_type": "markdown",
   "metadata": {},
   "source": [
    "### 9.1 EFFECTS OF PROMOTIONS & OTHER ANNOUNCEMENTS"
   ]
  },
  {
   "cell_type": "code",
   "execution_count": null,
   "metadata": {},
   "outputs": [],
   "source": [
    "# Time series plot for Simulated_Users and Simulated_New_Users\n",
    "plt.figure(figsize=(16, 6))\n",
    "plt.plot(df['Day_Index'], df['Simulated_Users'], label='Simulated_Users', marker='o', linestyle='-')\n",
    "plt.plot(df['Day_Index'], df['Simulated_New_Users'], label='Simulated_New_Users', marker='o', linestyle='-')\n",
    "plt.title('Time Series Plot of Simulated_Users and Simulated_New_Users')\n",
    "plt.xlabel('Day_Index')\n",
    "plt.ylabel('Number of Users')\n",
    "plt.legend()\n",
    "plt.show()"
   ]
  },
  {
   "cell_type": "markdown",
   "metadata": {},
   "source": [
    "Looking at the time series plot for Jambojet's web traffic, further research indicates that promotional announcements have consistently resulted in significant spikes in web traffic, showcasing the impact of these marketing efforts on user engagement:\n",
    "\n",
    "- On 16th April, 2018 Jambojet introduced a [72-hour special fare for 10,000 seats](https://www.financialfortunemedia.com/jambojet-slashes-fares-sh2200-new-move/), offering clients unprecedented one-way rates as low as KES 2,200 for domestic destinations and KES 7,330 to Entebbe, Uganda. This led to substantial spikes in web traffic, reaching the highest recorded values of 66,010 'Simulated_Users' and 61,576 'Simulated_New_Users' on 17th April 2018, 44,308 'Simulated_Users' and 39,061 'Simulated_New_Users' on 18th April 2018, and 34,532 'Simulated_Users' and 27,982 'Simulated_New_Users' on 19th April 2018.\n",
    "\n",
    "- A [35% discount promotion on tickets](https://www.jambojet.com/en-glo/about-jambojet/press-room/jambojet-hits-25-million-passengers-milestone/), announced on 27th August 2018, correlated with a spike in traffic on Jambojet's website on the day the 72-hour promotion began (28th August, 2018). 'Simulated_Users' totaled 37,441, and 'Simulated_New_Users' reached 30,246.\n",
    "\n",
    "- In February 2019, the airline marked the one-year anniversary of its route to Entebbe, Uganda, by introducing a special promotion offering a [25% discount on one-way tickets](https://www.jambojet.com/en-us/jambojet-one-year-anniversary-in-uganda/) for bookings during the month. This led to a notable increase in user activity on the website throughout the month, with 'Simulated_Users' fluctuating between 10,487 and 18,553 from the 4th to the 28th of February 2019. Similarly, 'Simulated_New_Users' showed a range of 6,603 to 14,798 during this period, reflecting the positive impact of the promotional offer on user engagement.\n",
    "\n",
    "- To celebrate its fifth-year anniversary, on 1st April, 2019 Jambojet announced the [sale of 100 one-way tickets for KES 50 each](https://www.capitalfm.co.ke/business/2019/04/jambojet-extends-sh50-ticket-offer-for-domestic-destinations/), extending the offer to an additional day on 5th April 2019. This resulted in increased traffic, with 28,390 total users and 21,052 new users on 1st April 2019 and 25,066 total users and 21,193 new users on 5th April 2019.\n",
    "\n",
    "- On 25th November 2019, the airline initiated its flights to Kigali, Rwanda, resulting in a substantial surge in website traffic. On that specific day, 'Simulated_Users' experienced a notable increase, reaching 17,386, while 'Simulated_New_Users' rose to 11,255. This heightened level of activity persisted for the following three days, with 'Simulated_Users' maintaining a range of 16,812 to 15,791 and 'Simulated_New_Users' fluctuating between 9,166 and 11,271.\n",
    "\n",
    "- As part of the airline's 2020 New Year Celebrations, the announcement of [selling 10,000 tickets at Kes 2,020 from 2nd - 4th January 2020](https://nation.africa/kenya/business/jambojet-sells-tickets-for-sh2-020-237328) marked the highest-ever spike in website traffic. On 2nd January 2020, 'Simulated_Users' and 'Simulated_New_Users' reached 110,612 and 117,086, respectively. The heightened engagement continued on 3rd and 4th January 2020.\n",
    "\n",
    "- On 5th January, 2021 a [72-hour sale offering 10,000 seats at a discounted rate of Kes 2,100](https://www.capitalfm.co.ke/business/2021/01/jambojet-offering-passengers-10000-seats-at-sh2100/) for domestic flights to celebrate the new year  sparked a surge in web traffic. The campaign, running from 5th to 7th January 2021, successfully attracted a substantial number of visitors to the airline's website. On 5th January, 'Simulated_Users' peaked at 71,993, accompanied by 64,307 'Simulated_New_Users'. The momentum continued on 6th January with 43,090 'Simulated_Users' and 31,560 'Simulated_New_Users,' and on 7th January, the site recorded 47,408 'Simulated_Users' and 32,995 'Simulated_New_Users.'\n",
    "\n",
    "- [In collaboration with Cellulant, Jambojet unveiled a promotional campaign](https://www.jambojet.com/en-us/plan-your-trip/nowtravelready-discount-vouchers/), offering 50 vouchers at Kes 1,000 each day from November 16, 2021, to December 23, 2021. This initiative triggered a surge in 'Simulated_Users' on November 15, soaring to 18,636 from 14,003 the day before. Similarly, 'New_Simulated_Users' experienced an increase, reaching 12,229 from 10,286 on the previous day. Throughout the promotional period, the website consistently attracted traffic, with 'Simulated_Users' fluctuating between 12,250 and 22,460, and 'New_Simulated_Users' ranging from 6,981 to 15,273. \n",
    "\n",
    "- To celebrate flying over 1 million passengers in 2022, Jambojet announced the [sale of 1,000 tickets at Kes 1,000 for one-way domestic flights](https://www.businessdailyafrica.com/bd/corporate/companies/jambojet-woos-travellers-with-sh1-000-fare-in--4082138). This 24-hour promotion, starting on 10th January 2023, led to spikes in visitors, with 'Simulated_Users' and 'Simulated_New_Users' reaching 79,199 and 72,045 on 10th January and 42,155 and 31,058 on 11th January.\n",
    "\n",
    "- On June 14, 2022, Jambojet unveiled a new collaboration with Cellulant, this time [introducing an incentive program to reward over 600 frequent fliers](https://www.jambojet.com/en-us/about-jambojet/press-room/jambojet-cellulant-partner-to-award-over-600-frequent-fliers-with-over-2m-in-rewards/) with discount vouchers valued at Kes 3,000 each. These vouchers were exclusively available to customers enrolled in the Jambojet Rewards loyalty program. The announcement appeared to have sparked an increase in 'Simulated_Users,' surging to 17,318 from the previous day's 15,363, while 'New_Simulated_Users' rose to 11,713 from 9,083. From the announcement date until August 8, 2022, 'Simulated_Users' exhibited fluctuations within the range of 11,916 to 36,245, and 'New_Simulated_Users' fluctuated between 7,874 and 30,434. However it is worth noting that this increased web traffic can more likely be attributed to the gradual recovery of Kenya's tourism sector post-COVID.\n",
    "\n",
    "These examples highlight a consistent pattern where promotional events, offering special fares or discounts, correlate with substantial increases in web traffic. "
   ]
  },
  {
   "cell_type": "markdown",
   "metadata": {},
   "source": [
    "### 9.2 EFFECTS OF COVID-19"
   ]
  },
  {
   "cell_type": "code",
   "execution_count": null,
   "metadata": {},
   "outputs": [],
   "source": [
    "# Filter data for the desired date range for each year\n",
    "start_date_2020 = '2020-02-01'\n",
    "end_date_2020 = '2020-12-31'\n",
    "start_date_2021 = '2021-01-01'\n",
    "end_date_2021 = '2021-12-31'\n",
    "\n",
    "filtered_df_2020 = df[(df['Day_Index'] >= start_date_2020) & (df['Day_Index'] <= end_date_2020)]\n",
    "filtered_df_2021 = df[(df['Day_Index'] >= start_date_2021) & (df['Day_Index'] <= end_date_2021)]\n",
    "\n",
    "# Create subplots for each year\n",
    "fig, axs = plt.subplots(2, 1, figsize=(16, 12))\n",
    "\n",
    "# Plot for 2020\n",
    "axs[0].plot(filtered_df_2020['Day_Index'], filtered_df_2020['Simulated_Users'], label='Simulated_Users 2020', marker='o', linestyle='-')\n",
    "axs[0].plot(filtered_df_2020['Day_Index'], filtered_df_2020['Simulated_New_Users'], label='Simulated_New_Users 2020', marker='o', linestyle='-')\n",
    "axs[0].set_title('Time Series Plot for 2020')\n",
    "axs[0].set_xlabel('Day_Index')\n",
    "axs[0].set_ylabel('Number of Users')\n",
    "axs[0].legend()\n",
    "\n",
    "# Plot for 2021\n",
    "axs[1].plot(filtered_df_2021['Day_Index'], filtered_df_2021['Simulated_Users'], label='Simulated_Users 2021', marker='o', linestyle='-')\n",
    "axs[1].plot(filtered_df_2021['Day_Index'], filtered_df_2021['Simulated_New_Users'], label='Simulated_New_Users 2021', marker='o', linestyle='-')\n",
    "axs[1].set_title('Time Series Plot for 2021')\n",
    "axs[1].set_xlabel('Day_Index')\n",
    "axs[1].set_ylabel('Number of Users')\n",
    "axs[1].legend()\n",
    "\n",
    "plt.tight_layout()\n",
    "plt.show()\n"
   ]
  },
  {
   "cell_type": "markdown",
   "metadata": {},
   "source": [
    "The impact of these restrictions on Jambojet was profound, as travel bans, flight restrictions, and the general decline in economic activities contributed to a decrease in web traffic and a subsequent decline in flights and operations.\n",
    "- In March 2020, the onset of the COVID-19 pandemic in Kenya prompted significant measures to curb the spread of the virus. On 15th March 2020, President Uhuru Kenyatta, along with Cabinet Secretary for Health Mutahi Kagwe, announced a series of restrictions. [Travel from countries with confirmed COVID-19 cases was restricted](https://www.aljazeera.com/news/2020/3/15/kenya-blocks-entry-for-non-residents-in-virus-response), only allowing entry to Kenyan citizens and foreigners with valid residence permits subject to self-quarantine or government-designated facilities. Schools and higher learning institutions were closed, remote work was encouraged, and essential services continued. Cashless transactions were promoted, and various gatherings were restricted, including weddings, malls, nightclubs, churches, and hospital visits. Cargo vessels, aircraft, or ships were permitted, subject to disinfection and crew quarantine.\n",
    "\n",
    "- By late March 2020, confirmed cases in Kenya increased, leading to the ban of all social gatherings, including religious gatherings. Additionally, a [suspension on international flights imposed](https://www.africanews.com/2020/03/23/kenya-suspends-all-international-flights-as-covid-19-cases-double//) effective from 25th March, causing a dampening effect on tourism. As the month progressed, cases continued to rise, and the first COVID-19-related death was reported on 26th March.\n",
    "\n",
    "- Before the announcements on 15th March 2020, Jambojet's website experienced relatively stable user numbers, with 'Simulated_Users' fluctuating between 9,257 and 15,635, and 'New_Simulated_Users' ranging from 5,575 to 9,776. However, as the COVID-19 measures took effect post-announcement, there was a notable decline in website visitors. 'Simulated_Users' dropped from 11,961 on 16th March 2020 to a low of 2,995 towards the end of the month. Similarly, 'New_Simulated_Users' decreased from a high of 6,538 following the March 15th announcement to lows of 1,516 towards the end of the month.\n",
    "\n",
    "- In April 2020, restrictions intensified as President Kenyatta announced a [cessation of movement in and out of Nairobi, Mombasa, Kilifi, and Kwale counties](https://www.aljazeera.com/news/2020/4/6/covid-19-kenya-bans-travel-in-and-out-of-nairobi-other-areas#:~:text=Besides%20the%20capital%2C%20the%20measure,and%20Kilifi%20and%20Kwale%20counties.&text=Kenyan%20President%20Uhuru%20Kenyatta%20has,the%20usually%20busy%20Easter%20weekend.) from 8th April. This marked a 21-day containment period. The number of COVID-19 cases continued to rise, prompting additional measures, including an [extension of the curfew hours](https://nation.africa/kenya/news/covid-19-night-curfew-times-changed-to-9pm-4am-522814). The movement cessation in major counties and curfew persisted as the president announced their extension for a further 30 days on 6th June 2016.\n",
    "\n",
    "- Between the 1st and 7th of April 2020, daily 'Simulated_Users' exhibited fluctuations, reaching peaks of 4,529 users and troughs of 2,303, while 'New_Simulated_Users' ranged from 2,439 to 1,222. However, following the announcement of movement restrictions on the 8th of April 2020, the number of users continued to fluctuate, but there was a notable decline in 'Simulated_Users' on Jambojet's website. The figures plummeted from 1,271 to a minimum of 561 users per day in the latter part of the month. Similarly, 'New_Simulated_Users' experienced a decrease from 812 to a low of 322 users per day.\n",
    "\n",
    "- May recorded the lowest user traffic, with neither 'Simulated_Users' nor 'New_Simulated_Users' surpassing 1,000. 'Simulated_Users' fluctuated between highs of 914 and lows of 340, marking the lowest daily user count for the entire data period. Similarly, 'New_Simulated_Users' ranged from highs of 723 to lows of 248, also representing the lowest daily user count observed in our data. \n",
    "\n",
    "- June continued to experience low traffic to Jambojet's website, consistently remaining below 1,000 daily users. However, there were brief periods of improvement, particularly as Kenyans anticipated the potential lifting of curfews and travel restrictions. Between the 3rd and 9th of June 2020, there was a minimal spike in traffic, with 'Simulated_Users' fluctuating from 2,232 to 1,198 and 'New_Simulated_Users' ranging from 2,053 to 896. A similar pattern occurred on the 29th and 30th of June, where 'Simulated_Users' reached 1,193 and 1,135 users, and 'New_Simulated_Users' hit 1,085 and 934 users, respectively.\n",
    "\n",
    "- On July 6, 2020 [President Uhuru Kenyatta announced a substantial easing of COVID-19 restrictions in Kenya](https://nation.africa/kenya/news/uhuru-lifts-cessation-order-for-nairobi-mombasa-and-mandera-1445728). The cessation of movement into and out of Nairobi Metropolitan Area, Mombasa County, and Mandera County was lifted, providing significant relief for the affected regions. Additionally, local air travel was scheduled to resume from July 15 under the guidelines set by the Ministry of Health and Transport. In line with this, [Jambojet announced the resumption of its operations to 5 local destinations](https://www.jambojet.com/en-us/covid-19-updates/jambojet-to-resume-operations-to-local-destinations/). Moreover, [international flights were set to resume from August 1](https://www.the-star.co.ke/news/2020-07-06-kenya-to-resume-international-flights-from-august-1/). This easing of restrictions, particularly the resumption of air travel, presented a positive outlook for Jambojet as web traffic began to steadily increase to expected levels.\n",
    "\n",
    "- Following the announcement on July 6, there was a remarkable upswing in traffic to Jambojet's website. 'Simulated_Users' increased substantially, rising from a range of 656 to 996 users between July 1st and 5th, 2020, to an impressive 5,050 users on July 6th, 2020. Similarly, 'New_Simulated_Users' witnessed a significant improvement, elevating from a range of 496 to 888 users from July 1st to 5th, 2020, to 4,514 users on July 6th, 2020.\n",
    "\n",
    "- The positive trend in user traffic continued, with another notable spike following the announcement on July 15th 2020 regarding the resumption of local air travel. Consequently, 'Simulated_Users' surged to 14,518, and 'New_Simulated_Users' reached 14,382. In the subsequent days and months, web traffic demonstrated sustained improvement, with no dips below 3,500 daily users and achieving a highs of up to 22,598 'Simulated_Users' and 17,105 'New_Simulated_Users'.\n",
    "\n",
    "- The impact of COVID-19 was again felt by the airline on 26th March 2021, following President Uhuru Kenyatta's directive to cease movement between major counties as a measure to curb the spread of the virus, [Jambojet declared the temporary suspension of operations from 29th March 2021 until further notice](https://www.jambojet.com/en-us/covid-19-updates/jambojet-operations-update-following-presidential-executive-order-on-covid-19/). This announcement triggered a notable spike in visits to the airline's website, as individuals sought to make travel arrangements before the implementation of the movement restrictions. On 26th March, the site experienced a surge with 37,380 'Simulated_Users' and 26,967 'Simulated_New_Users,' and on 27th March, 27,812 'Simulated_Users' and 16,875 'Simulated_New_Users' visited the site. However, this uptick was followed by a subsequent decline in website visitors, reflecting the broader impact of COVID-19 and the restrictions imposed on travel. The suspension of movement was later lifter on 1st May 2021."
   ]
  },
  {
   "cell_type": "markdown",
   "metadata": {},
   "source": [
    "### 9.3 EFFECT OF PUBLIC & SCHOOL HOLIDAYS"
   ]
  },
  {
   "cell_type": "code",
   "execution_count": null,
   "metadata": {},
   "outputs": [],
   "source": [
    "# Defining the date ranges for each year\n",
    "date_ranges = {\n",
    "    '2018': ('2018-01-01', '2018-12-31'),\n",
    "    '2019': ('2019-01-01', '2019-12-31'),\n",
    "    '2020': ('2020-01-01', '2020-12-31'),\n",
    "    '2021': ('2021-01-01', '2021-12-31'),\n",
    "    '2022': ('2022-01-01', '2022-12-31'),\n",
    "}\n",
    "\n",
    "# Creating subplots for each year\n",
    "fig, axs = plt.subplots(len(date_ranges), 1, figsize=(16, 18))\n",
    "\n",
    "# Plotting time series for each year\n",
    "for i, (year, date_range) in enumerate(date_ranges.items()):\n",
    "    start_date, end_date = date_range\n",
    "    filtered_df = df[(df['Day_Index'] >= start_date) & (df['Day_Index'] <= end_date)]\n",
    "\n",
    "    axs[i].plot(filtered_df['Day_Index'], filtered_df['Simulated_Users'], label=f'Simulated_Users {year}', \n",
    "                marker='o', linestyle='-')\n",
    "    \n",
    "    axs[i].plot(filtered_df['Day_Index'], filtered_df['Simulated_New_Users'], label=f'Simulated_New_Users {year}', \n",
    "                marker='o', linestyle='-')\n",
    "    \n",
    "    axs[i].set_title(f'Time Series Plot for {year}')\n",
    "    axs[i].set_xlabel('Day_Index')\n",
    "    axs[i].set_ylabel('Number of Users')\n",
    "    axs[i].legend()\n",
    "\n",
    "plt.tight_layout()\n",
    "plt.grid()\n",
    "plt.show()"
   ]
  },
  {
   "cell_type": "markdown",
   "metadata": {},
   "source": [
    "Analyzing Jambojet's web traffic, significant spikes in 'Simulated_Users' and 'New_Simulated_Users' were noted in 2018, specifically during public and school holidays. \n",
    "- On December 12, 2018, 'Simulated_Users' peaked at 25,616, and 'New_Simulated_Users' at 28,818. The following day, December 13, 2018, witnessed even higher figures, with 'Simulated_Users' reaching 34,741 and 'New_Simulated_Users' at 39,630. Daily users remained consistently above 20,000 until December 22, 2018, when fluctuations led to declines, reaching lows of 8,086 by the end of the month.\n",
    "\n",
    "- In 2019, from May to December, a general upward trend in traffic was observed. After the Moi Day holiday on October 11, 2019, 'Simulated_Users' peaked at 24,265, and 'New_Simulated_Users' at 19,908. Increased daily users were also seen from November 25 to 29, 2019, and from December 9 to 20, 2019.\n",
    "\n",
    "- Despite the challenges posed by the COVID-19 pandemic in 2020, Jambojet showed signs of recovery from November 9 to December 31, 2020. 'Simulated_Users' ranged from 10,160 to 22,598, and 'New_Simulated_Users' from 7,056 to 17,105. This recovery coincided with the December holidays, allowing people to resume travel after a prolonged period of restrictions.\n",
    "\n",
    "- In 2021, a general upward trend in 'Simulated_Users' and 'New_Simulated_Users' was observed after travel restrictions were lifted on May 1, 2021. Notable spikes occurred on September 29 and 30, 2021, and throughout November and December, aligning with the long summer and December holidays.\n",
    "\n",
    "- From June 16 to August 4, 2022, the highest levels of web traffic to Jambojet's website were observed, marking the first full year post-COVID when tourism fully resumed as [1.5 million international visitors came in to tour the country in 2022](https://www.tourism.go.ke/wp-content/uploads/2023/02/ANNUAL-TOURISM-SECTOR-PERFORMANCE-REPORT-2022-2.pdf) compared to 567,800 in 2020, and likely contributed to the spike. During this period, 'Simulated_Users' ranged from 15,369 to 36,245, and 'New_Simulated_Users' from 10,127 to 30,434. The period also coincides with the long summer holiday for British systems schools in Kenya and when Kenyans living or studying in the diaspora visit Kenya on holiday. Despite a brief decline after August 4, web traffic steadily increased leading up to the December holidays, a peak season for tourism in Kenya."
   ]
  },
  {
   "cell_type": "markdown",
   "metadata": {},
   "source": [
    "### 9.4 Month-wise and year-wise traffic trends."
   ]
  },
  {
   "cell_type": "code",
   "execution_count": null,
   "metadata": {},
   "outputs": [],
   "source": [
    "# Extracting year, month, and day for further analysis\n",
    "df['Year'] = df['Day_Index'].dt.year\n",
    "df['Month'] = df['Day_Index'].dt.month\n",
    "df['Day'] = df['Day_Index'].dt.day\n",
    "\n",
    "# Month-wise trends for each year\n",
    "plt.figure(figsize=(15, 6))\n",
    "sns.lineplot(x='Month', y='Simulated_Users', hue='Year', data=df, palette='Set2', ci= None)\n",
    "plt.title('Month-wise Traffic Trends for Each Year')\n",
    "plt.xlabel('Month')\n",
    "plt.ylabel('Average Number of Users')\n",
    "plt.legend(title='Year')\n",
    "plt.show()\n",
    "\n",
    "# Year-wise trends\n",
    "yearly_trends = df.groupby('Year').sum()\n",
    "\n",
    "# Plotting year-wise trends for total and new users\n",
    "plt.figure(figsize=(15, 6))\n",
    "\n",
    "# Plot for total users\n",
    "plt.subplot(1, 2, 1)\n",
    "sns.barplot(x=yearly_trends.index, y='Simulated_Users', data=yearly_trends, palette='Set2')\n",
    "plt.title('Yearly Total Users Trend')\n",
    "plt.xlabel('Year')\n",
    "plt.ylabel('Total Users')\n",
    "\n",
    "# Plot for new users\n",
    "plt.subplot(1, 2, 2)\n",
    "sns.barplot(x=yearly_trends.index, y='Simulated_New_Users', data=yearly_trends, palette='Set2')\n",
    "plt.title('Yearly New Users Trend')\n",
    "plt.xlabel('Year')\n",
    "plt.ylabel('New Users')\n",
    "\n",
    "plt.tight_layout()\n",
    "plt.show()"
   ]
  },
  {
   "cell_type": "markdown",
   "metadata": {},
   "source": [
    "#### Observations:\n",
    "* The month-wise trends indicate that web traffic may have specific seasonal patterns that vary from year to year.\n",
    "* Yearly trends show fluctuations in total and new users, which were influenced by the various marketing campaigns and the COVID-19 pandemic."
   ]
  },
  {
   "cell_type": "markdown",
   "metadata": {},
   "source": [
    "### 9.5 Effect of seasons and Months over the years"
   ]
  },
  {
   "cell_type": "code",
   "execution_count": null,
   "metadata": {},
   "outputs": [],
   "source": [
    "# Function to define the seasons\n",
    "def categorize_season(month):\n",
    "    if month in [12, 1, 2]:\n",
    "        return 'Winter'\n",
    "    elif month in [3, 4, 5]:\n",
    "        return 'Spring'\n",
    "    elif month in [6, 7, 8]:\n",
    "        return 'Summer'\n",
    "    elif month in [9, 10, 11]:\n",
    "        return 'Fall'\n",
    "\n",
    "\n",
    "df['Season'] = df['Day_Index'].dt.month.map(categorize_season)\n",
    "\n",
    "# Applying the categorization to create a new 'Season' column\n",
    "df['Season'] = df['Day_Index'].dt.month.map(categorize_season)\n",
    "\n",
    "# Creating a new DataFrame with the sum of 'Simulated_Users' and 'Simulated_New_Users' for each season\n",
    "season_sum_df = df.groupby('Season').agg({'Simulated_Users': 'sum', 'Simulated_New_Users': 'sum'}).reset_index()\n",
    "\n",
    "# Sorting the DataFrame by 'Simulated_Users' in descending order\n",
    "season_sum_df = season_sum_df.sort_values(by='Simulated_Users', ascending=False)\n",
    "\n",
    "# Plotting the sum of 'Simulated_Users' and 'Simulated_New_Users' for each season\n",
    "fig, axs = plt.subplots(1, 2, figsize=(18, 7))\n",
    "\n",
    "# Bar plot for 'Simulated_Users'\n",
    "axs[0].bar(season_sum_df['Season'], season_sum_df['Simulated_Users'], color='#df006e')\n",
    "axs[0].set_title('Sum of Simulated_Users for Each Season')\n",
    "axs[0].set_ylabel('Total Number of Users')\n",
    "plt.grid()\n",
    "\n",
    "# Bar plot for 'New_Simulated_Users'\n",
    "axs[1].bar(season_sum_df['Season'], season_sum_df['Simulated_New_Users'], color='#ffdd00')\n",
    "axs[1].set_title('Sum of New_Simulated_Users for Each Season')\n",
    "axs[1].set_ylabel('Total Number of New Users')\n",
    "\n",
    "plt.tight_layout()\n",
    "plt.grid()\n",
    "plt.show()"
   ]
  },
  {
   "cell_type": "markdown",
   "metadata": {},
   "source": [
    "### Monthly Analysis accross the years"
   ]
  },
  {
   "cell_type": "code",
   "execution_count": null,
   "metadata": {},
   "outputs": [],
   "source": [
    "# Analyzing specific months with unusual trends\n",
    "# Aggregating data by month and year\n",
    "monthly_traffic = df.groupby(['Year', 'Month']).sum().reset_index()\n",
    "\n",
    "# Plotting monthly traffic for each year\n",
    "plt.figure(figsize=(15, 6))\n",
    "sns.lineplot(x='Month', y='Simulated_Users', hue='Year', data=monthly_traffic, palette='tab10', ci=None)\n",
    "plt.title('Monthly Traffic Across Different Years')\n",
    "plt.xlabel('Month')\n",
    "plt.ylabel('Total Simulated Users')\n",
    "plt.legend(title='Year')\n",
    "plt.tight_layout()\n",
    "plt.grid()\n",
    "plt.show()"
   ]
  },
  {
   "cell_type": "code",
   "execution_count": null,
   "metadata": {},
   "outputs": [],
   "source": [
    "# Grouping by week and month\n",
    "df['Week'] = df['Day_Index'].dt.strftime('%U')\n",
    "df['Month'] = df['Day_Index'].dt.strftime('%B')\n",
    "\n",
    "# Defining the order of months\n",
    "month_order = ['January', 'February', 'March', 'April', 'May', 'June', \n",
    "               'July', 'August', 'September', 'October', 'November', 'December']\n",
    "\n",
    "# Setting the seaborn style\n",
    "sns.set(style=\"whitegrid\")\n",
    "\n",
    "# Plotting monthly trends\n",
    "fig, ax = plt.subplots(figsize=(18, 6))\n",
    "sns.barplot(x='Month', y='Simulated_Users', data=df, ax=ax, \n",
    "            order=month_order, color='#df006e', label='Simulated Users')\n",
    "\n",
    "sns.barplot(x='Month', y='Simulated_New_Users', data=df, ax=ax, \n",
    "            order=month_order, color='#ffdd00', label='Simulated New Users')\n",
    "\n",
    "ax.set_title('Web Traffic Monthly Trends')\n",
    "ax.set_xlabel('Month')\n",
    "ax.set_ylabel('Simulated Users')\n",
    "plt.legend() \n",
    "plt.show()"
   ]
  },
  {
   "cell_type": "markdown",
   "metadata": {},
   "source": [
    "### Weekly Analysis accross the years"
   ]
  },
  {
   "cell_type": "code",
   "execution_count": null,
   "metadata": {},
   "outputs": [],
   "source": [
    "# Plotting weekly trends\n",
    "fig, ax = plt.subplots(figsize=(18, 6))\n",
    "sns.barplot(x='Week', y='Simulated_Users', data=df, ax=ax, color='#df006e', label='Simulated Users')\n",
    "sns.barplot(x='Week', y='Simulated_New_Users', data=df, ax=ax, color='#ffdd00', label='Simulated New Users')\n",
    "ax.set_title('Web Traffic Weekly Trends')\n",
    "ax.set_xlabel('Week')\n",
    "ax.set_ylabel('Simulated Users')\n",
    "plt.legend()\n",
    "plt.show()"
   ]
  },
  {
   "cell_type": "markdown",
   "metadata": {},
   "source": [
    "Over a six-year period, the analysis reveals that Winter consistently attracted the highest web traffic for both 'Simulated_Users' and 'New_Simulated_Users,' peaking at approximately 7 million and 4.5 million users, respectively. Following closely, Autumn exhibited robust engagement with around 6 million 'Simulated_Users' and 4 million 'New_Simulated_Users.' Summer followed suit with an approximate count of 5 million 'Simulated_Users' and 3.5 million 'New_Simulated_Users.' Lastly, Spring recorded about 4.8 million 'Simulated_Users' and 2.9 million 'New_Simulated_Users.'\n",
    "\n",
    "These patterns align with the observed trends, indicating that promotions yielding the highest web traffic counts often occur during Autumn and Winter. This correlation also corresponds to broader travel patterns in the country. As the end of the month approaches, people tend to take leave from work, and schools close for the December holidays, boosting travel interest. The Autumn and Winter seasons, associated with increased tourism and travel, witness a surge in visits and bookings on Jambojet's website. Moreover, the Summer holiday, though less popular for international tourists compared to Winter, becomes an opportune time for Kenyans in the diaspora to return home. Additionally, students in British system schools take extended breaks during the Summer months, contributing to heightened travel activity during this season."
   ]
  },
  {
   "cell_type": "markdown",
   "metadata": {},
   "source": [
    "### 9.6 Days of the week Analysis accross the years"
   ]
  },
  {
   "cell_type": "code",
   "execution_count": null,
   "metadata": {},
   "outputs": [],
   "source": [
    "# Extracting day of the week\n",
    "df['Day_of_Week'] = pd.Categorical(df['Day_Index'].dt.strftime('%A'),\n",
    "                                    categories=['Monday', 'Tuesday', 'Wednesday', 'Thursday', 'Friday', \n",
    "                                                'Saturday', 'Sunday'],ordered=True)\n",
    " \n",
    "# Setting the seaborn style\n",
    "sns.set(style=\"whitegrid\")\n",
    "\n",
    "# Plottiing daily trends\n",
    "fig, (ax1, ax2) = plt.subplots(1, 2, figsize=(18, 8))\n",
    "\n",
    "sns.barplot(x='Day_of_Week', y='Simulated_Users', data=df, ax=ax1,\n",
    "            color='#df006e', label='Simulated Users')\n",
    "\n",
    "sns.barplot(x='Day_of_Week', y='Simulated_New_Users', data=df, ax=ax1,\n",
    "            color='#ffdd00', label='Simulated New Users')\n",
    "\n",
    "ax1.set_title('Web Traffic Daily Trends')\n",
    "ax1.set_xlabel('Day of the Week')\n",
    "ax1.set_ylabel('Simulated Users')\n",
    "ax1.legend()\n",
    "\n",
    "# Comparing weekday vs. weekend traffic\n",
    "# Assigning categories to 'Day_of_Week' (0-4 as Weekday, 5-6 as Weekend)\n",
    "df['Weekday_vs_Weekend'] = np.where(df['Day_of_Week'] < 'Saturday', 'Weekday', 'Weekend')\n",
    "\n",
    "# Aggregating data by weekday vs. weekend\n",
    "weekday_weekend_traffic = df.groupby('Weekday_vs_Weekend').mean()\n",
    "\n",
    "sns.barplot(x=weekday_weekend_traffic.index, y='Simulated_Users', \n",
    "            data=weekday_weekend_traffic, palette='Set2', ax=ax2)\n",
    "\n",
    "ax2.set_title('Average Traffic: Weekday vs. Weekend')\n",
    "ax2.set_xlabel('Day Type')\n",
    "ax2.set_ylabel('Average Number of Users')\n",
    "\n",
    "plt.show()"
   ]
  },
  {
   "cell_type": "markdown",
   "metadata": {},
   "source": [
    "#### Observations:\n",
    "* There's a distict difference in the web traffic on the weekends vs weekdays with Tursdays recording the highest traffic throught the years followed by Tuesdays. This could be an attribute of the the traveler behaviours where most people visit the website to book flights for the weekend getaways."
   ]
  },
  {
   "cell_type": "markdown",
   "metadata": {},
   "source": [
    "## 10. Correlation Analysis"
   ]
  },
  {
   "cell_type": "code",
   "execution_count": null,
   "metadata": {
    "scrolled": false
   },
   "outputs": [],
   "source": [
    "# Calculating correlation coefficient\n",
    "correlation = df['Simulated_Users'].corr(df['Simulated_New_Users'])\n",
    "\n",
    "# Calculating the correlation matrix\n",
    "correlation_matrix = df[['Simulated_Users', 'Simulated_New_Users']].corr()\n",
    "\n",
    "# Creating a heatmap\n",
    "plt.figure(figsize=(8, 6))\n",
    "sns.heatmap(correlation_matrix, annot=True, cmap='coolwarm', fmt=\".2f\", linewidths=.5)\n",
    "plt.title('Correlation Heatmap: Simulated_Users vs. Simulated_New_Users')\n",
    "plt.show()\n",
    "\n",
    "print(f\"Correlation Coefficient between Simulated_Users and Simulated_New_Users: {correlation}\")"
   ]
  },
  {
   "cell_type": "markdown",
   "metadata": {},
   "source": [
    "# 11. Time Series Modeling"
   ]
  },
  {
   "cell_type": "markdown",
   "metadata": {},
   "source": [
    "## 11.1 Data Preprocessing for Modeling"
   ]
  },
  {
   "cell_type": "code",
   "execution_count": null,
   "metadata": {},
   "outputs": [],
   "source": [
    "# Check a concise summary of the dataset\n",
    "df.info()"
   ]
  },
  {
   "cell_type": "markdown",
   "metadata": {},
   "source": [
    "It is important to have the Day_Index column as our index since it has some advantages such as easy visualization with dates on the x-axis, and it allows for convenient time-based operations"
   ]
  },
  {
   "cell_type": "code",
   "execution_count": null,
   "metadata": {
    "scrolled": true
   },
   "outputs": [],
   "source": [
    "# Set Day_Index column as our index\n",
    "df.set_index('Day_Index', inplace=True)\n",
    "# Check the top 10 records\n",
    "df.head(5)"
   ]
  },
  {
   "cell_type": "markdown",
   "metadata": {},
   "source": [
    "We drop the **Year**, **Month**, **Day**, **Season**, **Week**, **Day_of_Week** and **Weekday_vs_Weekend**, columns since our future analysis will be based on the **Simulated_Users** and **Simulated_New_Users** as well as Season, Week, Month and Day_of_Week"
   ]
  },
  {
   "cell_type": "code",
   "execution_count": null,
   "metadata": {},
   "outputs": [],
   "source": [
    "# Drop the specified columns\n",
    "columns_to_drop = ['Year', 'Month', 'Day', 'Season', 'Week','Day_of_Week','Weekday_vs_Weekend']\n",
    "df.drop(columns=columns_to_drop, axis=1, inplace=True)\n",
    "\n",
    "# Confirm the changes\n",
    "df.head(10)"
   ]
  },
  {
   "cell_type": "code",
   "execution_count": null,
   "metadata": {},
   "outputs": [],
   "source": [
    "# Visualize the time series data\n",
    "plt.figure(figsize=(15, 6))\n",
    "plt.plot(df['Simulated_Users'], label='Total Users', color='#df006e')\n",
    "plt.plot(df['Simulated_New_Users'], label='Total New Users', color='#ffdd00')\n",
    "plt.title('Simulated Web Traffic Over Time')\n",
    "plt.xlabel('Date')\n",
    "plt.ylabel('Number of Users')\n",
    "plt.legend()\n",
    "plt.show()"
   ]
  },
  {
   "cell_type": "markdown",
   "metadata": {},
   "source": [
    "### 11.2 Identifying outliers"
   ]
  },
  {
   "cell_type": "code",
   "execution_count": null,
   "metadata": {},
   "outputs": [],
   "source": [
    "# Calculate IQR\n",
    "Q1 = df.quantile(0.25)\n",
    "Q3 = df.quantile(0.75)\n",
    "IQR = Q3 - Q1\n",
    "\n",
    "# Identify outliers\n",
    "outliers = (df < (Q1 - 1.5 * IQR)) | (df > (Q3 + 1.5 * IQR))"
   ]
  },
  {
   "cell_type": "code",
   "execution_count": null,
   "metadata": {},
   "outputs": [],
   "source": [
    "#Removing outliers\n",
    "df = df[~(outliers.any(axis=1))]"
   ]
  },
  {
   "cell_type": "code",
   "execution_count": null,
   "metadata": {},
   "outputs": [],
   "source": [
    "# Resetting 'Day_Index' from index to a normal column\n",
    "df.reset_index(inplace=True)\n",
    "df['Day_Index'] = pd.to_datetime(df['Day_Index'])\n",
    "\n",
    "# Filtering data between specified dates\n",
    "start_date = '2020-04-09'\n",
    "end_date = '2020-07-05'\n",
    "\n",
    "df_filtered = df[(df['Day_Index'] < start_date) | (df['Day_Index'] > end_date)]\n",
    "\n",
    "# Display the first few rows of the filtered DataFrame\n",
    "print(df_filtered.head())"
   ]
  },
  {
   "cell_type": "code",
   "execution_count": null,
   "metadata": {
    "scrolled": true
   },
   "outputs": [],
   "source": [
    "# Visualizinig the data without outliers\n",
    "plt.figure(figsize=(15, 6))\n",
    "plt.plot(df['Simulated_Users'], label='Total Users', color='#009FE3')\n",
    "plt.plot(df['Simulated_New_Users'], label='Total New Users', color='#AFCA0B')\n",
    "plt.title('Simulated Web Traffic Over Time')\n",
    "plt.xlabel('Date')\n",
    "plt.ylabel('Number of Users')\n",
    "plt.legend()\n",
    "plt.show()"
   ]
  },
  {
   "cell_type": "code",
   "execution_count": null,
   "metadata": {},
   "outputs": [],
   "source": [
    "df.head()"
   ]
  },
  {
   "cell_type": "code",
   "execution_count": null,
   "metadata": {
    "scrolled": true
   },
   "outputs": [],
   "source": [
    "# # Feature engineerinig\n",
    "# df['Day_of_Week'] = df.index.dayofweek\n",
    "# df['Month'] = df.index.month\n",
    "# df['Year'] = df.index.year\n",
    "# df['Week_of_Year'] = df.index.isocalendar().week\n",
    "\n",
    "# df.head()"
   ]
  },
  {
   "cell_type": "code",
   "execution_count": null,
   "metadata": {},
   "outputs": [],
   "source": [
    "Simulated_Users = df[\"Simulated_Users\"]\n",
    "Simulated_New_Users = df[\"Simulated_New_Users\"]"
   ]
  },
  {
   "cell_type": "markdown",
   "metadata": {},
   "source": [
    "### Stationarity check "
   ]
  },
  {
   "cell_type": "code",
   "execution_count": null,
   "metadata": {
    "scrolled": true
   },
   "outputs": [],
   "source": [
    "# Create a function to check for the stationarity of a given time series using rolling stats and DF test\n",
    "def stationarity_check(TS):\n",
    "    \n",
    "    # Import adfuller\n",
    "    from statsmodels.tsa.stattools import adfuller\n",
    "    \n",
    "    # Calculate rolling statistics\n",
    "    roll_mean = TS.rolling(window=8, center=False).mean()\n",
    "    roll_std = TS.rolling(window=8, center=False).std()\n",
    "    \n",
    "    # Perform the Dickey Fuller test\n",
    "    dftest = adfuller(TS) \n",
    "    \n",
    "    # Plot rolling statistics:\n",
    "    fig = plt.figure(figsize=(18,6))\n",
    "    orig = plt.plot(TS, color='blue',label='Original')\n",
    "    mean = plt.plot(roll_mean, color='red', label='Rolling Mean')\n",
    "    std = plt.plot(roll_std, color='green', label = 'Rolling Std')\n",
    "    plt.legend(loc='best')\n",
    "    plt.title('Rolling Mean & Standard Deviation')\n",
    "    plt.show(block=False)\n",
    "    \n",
    "    # Print Dickey-Fuller test results\n",
    "    print('Results of Dickey-Fuller Test: \\n')\n",
    "\n",
    "    dfoutput = pd.Series(dftest[0:4], index=['Test Statistic', 'p-value', \n",
    "                                             '#Lags Used', 'Number of Observations Used'])\n",
    "    for key, value in dftest[4].items():\n",
    "        dfoutput['Critical Value (%s)'%key] = value\n",
    "    print(dfoutput)\n",
    "    \n",
    "    return None"
   ]
  },
  {
   "cell_type": "code",
   "execution_count": null,
   "metadata": {},
   "outputs": [],
   "source": [
    "stationarity_check(Simulated_Users)"
   ]
  },
  {
   "cell_type": "code",
   "execution_count": null,
   "metadata": {},
   "outputs": [],
   "source": [
    "stationarity_check(Simulated_New_Users)"
   ]
  },
  {
   "cell_type": "markdown",
   "metadata": {},
   "source": [
    "* For \"Simulated_Users\": The ADF statistic is -3.703665, and the p-value is 0.004062.\n",
    "* For \"Simulated_New_Users\": The ADF statistic is -4.078969, and the p-value is 0.001049.\n",
    "* In both cases, the ADF statistic is less than the critical values, and the p-values are less than 0.05. This means you can reject the null hypothesis, and thus, both series are stationary."
   ]
  },
  {
   "cell_type": "code",
   "execution_count": null,
   "metadata": {},
   "outputs": [],
   "source": [
    "# Check for missing dates\n",
    "expected_range = pd.date_range(start=df.index.min(), end=df.index.max(), freq='D')\n",
    "missing_dates = expected_range.difference(df.index)\n",
    "\n",
    "# If there are missing dates, fill them\n",
    "if not missing_dates.empty:\n",
    "    df = df.reindex(expected_range, fill_value=0) # or use `method='ffill'` or `method='bfill'\n",
    "\n",
    "# Now try setting the frequency and performing the decomposition\n",
    "df.index.freq = 'D'  # Set frequency to daily\n",
    "\n",
    "# Decompose 'Simulated_Users'\n",
    "decomp_users = sd(Simulated_Users, model='additive')\n",
    "plt.figure(figsize=(14, 10))\n",
    "decomp_users.plot()\n",
    "plt.show()"
   ]
  },
  {
   "cell_type": "code",
   "execution_count": null,
   "metadata": {},
   "outputs": [],
   "source": [
    "# Decompose 'Simulated_New_Users'\n",
    "decomp_new_users = sd(Simulated_Users, model='additive')\n",
    "decomp_new_users.plot()\n",
    "plt.show()"
   ]
  },
  {
   "cell_type": "markdown",
   "metadata": {},
   "source": [
    "### 11.2 Removing Trends"
   ]
  },
  {
   "cell_type": "code",
   "execution_count": null,
   "metadata": {},
   "outputs": [],
   "source": [
    "# Create a function to check for the stationarity of a given time series using rolling stats and DF test\n",
    "def stationarity_check(TS):\n",
    "    \n",
    "    # Import adfuller\n",
    "    from statsmodels.tsa.stattools import adfuller\n",
    "    \n",
    "    # Calculate rolling statistics\n",
    "    roll_mean = TS.rolling(window=8, center=False).mean()\n",
    "    roll_std = TS.rolling(window=8, center=False).std()\n",
    "    \n",
    "    # Perform the Dickey Fuller test\n",
    "    dftest = adfuller(TS) \n",
    "    \n",
    "    # Plot rolling statistics:\n",
    "    fig = plt.figure(figsize=(12,6))\n",
    "    orig = plt.plot(TS, color='blue',label='Original')\n",
    "    mean = plt.plot(roll_mean, color='red', label='Rolling Mean')\n",
    "    std = plt.plot(roll_std, color='green', label = 'Rolling Std')\n",
    "    plt.legend(loc='best')\n",
    "    plt.title('Rolling Mean & Standard Deviation')\n",
    "    plt.show(block=False)\n",
    "    \n",
    "    # Print Dickey-Fuller test results\n",
    "    print('Results of Dickey-Fuller Test: \\n')\n",
    "\n",
    "    dfoutput = pd.Series(dftest[0:4], index=['Test Statistic', 'p-value', \n",
    "                                             '#Lags Used', 'Number of Observations Used'])\n",
    "    for key, value in dftest[4].items():\n",
    "        dfoutput['Critical Value (%s)'%key] = value\n",
    "    print(dfoutput)\n",
    "    \n",
    "    return None"
   ]
  },
  {
   "cell_type": "code",
   "execution_count": null,
   "metadata": {},
   "outputs": [],
   "source": []
  },
  {
   "cell_type": "code",
   "execution_count": null,
   "metadata": {},
   "outputs": [],
   "source": [
    "stationarity_check(df)"
   ]
  },
  {
   "cell_type": "markdown",
   "metadata": {},
   "source": [
    "The original time series, rolling mean, and standard deviation lines follow somehow similar patterns, suggesting that there might be some stability and consistency in the data. This observation is often indicative of a stationary time series"
   ]
  },
  {
   "cell_type": "markdown",
   "metadata": {},
   "source": [
    "### Observation"
   ]
  },
  {
   "cell_type": "markdown",
   "metadata": {},
   "source": [
    "#### Analysis of Dickey-Fuller Test Results"
   ]
  },
  {
   "cell_type": "markdown",
   "metadata": {},
   "source": [
    "* **Test Statistic:**  The more negative the test statistic, the more likely we are to reject the null hypothesis (which assumes non-stationarity). In this case, the test statistic is -3.926642.\n",
    "\n",
    "* **p-value:** The p-value is 0.001847, which is less than our significance level (alpha) of 0.05. A low p-value suggests that we can reject the null hypothesis of non-stationarity. In other words, the data is likely stationary.\n",
    "\n",
    "* **Lags Used:** The number of lags used in the regression when determining the test statistic. In this case, 22 lags were used.\n",
    "\n",
    "* **Number of Observations Used:** The number of observations used in the ADF regression and calculation of critical values.\n",
    "\n",
    "* **Critical Values:** These are the critical values at the 1%, 5%, and 10% significance levels. The test statistic is lower(more negative) than all the critical values, suggesting stationarity."
   ]
  },
  {
   "cell_type": "markdown",
   "metadata": {},
   "source": [
    "### Interpretation"
   ]
  },
  {
   "cell_type": "markdown",
   "metadata": {},
   "source": [
    "* The test statistic is more negative than the critical values, indicating that we can reject the null hypothesis.\n",
    "\n",
    "* The p-value is less than 0.05, further supporting the rejection of the null hypothesis.\n",
    "\n",
    "* Since the null hypothesis of non-stationarity is rejected, it suggests that the time series is likely stationary and there are no apparent trends. Therefore, we can proceed with time series modelling"
   ]
  },
  {
   "cell_type": "markdown",
   "metadata": {},
   "source": [
    "### 11.3 Decomposition"
   ]
  },
  {
   "cell_type": "markdown",
   "metadata": {},
   "source": [
    "The rolling statistics and ADF test seem to indicate that the data is stationary. We will perform decomposition to identify and visualize the underlying patterns within the time series data, separate the signal (trend and seasonality) from the noise (residuals) and provide a more interpretable representation of the time series, making it easier to communicate findings."
   ]
  },
  {
   "cell_type": "code",
   "execution_count": null,
   "metadata": {},
   "outputs": [],
   "source": [
    "# Apply seasonal_decompose()\n",
    "decomposition = sd(np.log(df))\n",
    "\n",
    "# Gather the trend, seasonality, and residuals \n",
    "trend = decomposition.trend\n",
    "seasonal = decomposition.seasonal\n",
    "residual = decomposition.resid\n",
    "\n",
    "# Plot gathered statistics\n",
    "plt.figure(figsize=(16,8))\n",
    "plt.subplot(411)\n",
    "plt.plot(df, label='Original', color='blue')\n",
    "plt.legend(loc='best')\n",
    "plt.subplot(412)\n",
    "plt.plot(trend, label='Trend', color='blue')\n",
    "plt.legend(loc='best')\n",
    "plt.subplot(413)\n",
    "plt.plot(seasonal,label='Seasonality', color='blue')\n",
    "plt.legend(loc='best')\n",
    "plt.subplot(414)\n",
    "plt.plot(residual, label='Residuals', color='blue')\n",
    "plt.legend(loc='best')\n",
    "plt.tight_layout()"
   ]
  },
  {
   "cell_type": "markdown",
   "metadata": {},
   "source": [
    "# 12. ARIMA Model"
   ]
  },
  {
   "cell_type": "markdown",
   "metadata": {},
   "source": [
    "## 12.1 Model 1 (Baseline): ARIMA(2,0) Model"
   ]
  },
  {
   "cell_type": "code",
   "execution_count": null,
   "metadata": {},
   "outputs": [],
   "source": [
    "# Split the data into train and test sets\n",
    "n_obs = len(df)\n",
    "train_size = int(n_obs * 0.7) \n",
    "train, test = df.iloc[:train_size], df.iloc[train_size:]"
   ]
  },
  {
   "cell_type": "code",
   "execution_count": null,
   "metadata": {},
   "outputs": [],
   "source": [
    "# Instantiate an AR(1) model to the df\n",
    "mod_arma = ARIMA(train['Simulated_Users'], order=(2,0,0))"
   ]
  },
  {
   "cell_type": "code",
   "execution_count": null,
   "metadata": {},
   "outputs": [],
   "source": [
    "# Fit the model to data\n",
    "arma = mod_arma.fit()"
   ]
  },
  {
   "cell_type": "code",
   "execution_count": null,
   "metadata": {},
   "outputs": [],
   "source": [
    "# Print out summary information on the fit\n",
    "print(arma.summary())"
   ]
  },
  {
   "cell_type": "code",
   "execution_count": null,
   "metadata": {},
   "outputs": [],
   "source": [
    "# Print out the estimate for the constant and for theta\n",
    "print(arma.params)"
   ]
  },
  {
   "cell_type": "code",
   "execution_count": null,
   "metadata": {},
   "outputs": [],
   "source": [
    "# Evaluate the model\n",
    "# Make predictions\n",
    "test_pred = arma.get_forecast(steps=len(test)).predicted_mean\n",
    "\n",
    "# Calculate the RMSE for the predictions on the test set\n",
    "test_mse = mean_squared_error(test['Simulated_Users'], test_pred)\n",
    "rmse = sqrt(test_mse)\n",
    "\n",
    "print(f'Test Data RMSE: {rmse}')"
   ]
  },
  {
   "cell_type": "code",
   "execution_count": null,
   "metadata": {},
   "outputs": [],
   "source": [
    "# Visualizing the results\n",
    "plt.figure(figsize=(12, 8))\n",
    "plt.plot(train['Simulated_Users'], label='Actual')\n",
    "plt.plot(test_pred, label='Predicted', color='red')\n",
    "plt.title('ARIMA Model Predictions vs Original Residuals')\n",
    "plt.xlabel('Time')\n",
    "plt.ylabel('Simulated Users')\n",
    "plt.legend()\n",
    "plt.show()"
   ]
  },
  {
   "cell_type": "code",
   "execution_count": null,
   "metadata": {},
   "outputs": [],
   "source": [
    "# Plot diagnostics for the statistical model\n",
    "arma.plot_diagnostics(figsize=(15, 10))\n",
    "plt.show()"
   ]
  },
  {
   "cell_type": "markdown",
   "metadata": {},
   "source": [
    "## 12.2 Model 2: ARIMA(2,1) Model"
   ]
  },
  {
   "cell_type": "code",
   "execution_count": null,
   "metadata": {},
   "outputs": [],
   "source": [
    "# Split the data into train and test sets\n",
    "n_obs = len(df)\n",
    "train_size = int(n_obs * 0.8) \n",
    "train, test = df.iloc[:train_size], df.iloc[train_size:]"
   ]
  },
  {
   "cell_type": "code",
   "execution_count": null,
   "metadata": {},
   "outputs": [],
   "source": [
    "# Instantiate an AR(1) model to the df\n",
    "mod_arma = ARIMA(train['Simulated_Users'],order=(2,0,1))"
   ]
  },
  {
   "cell_type": "code",
   "execution_count": null,
   "metadata": {},
   "outputs": [],
   "source": [
    "# Fit the model to data\n",
    "arma = mod_arma.fit()"
   ]
  },
  {
   "cell_type": "code",
   "execution_count": null,
   "metadata": {},
   "outputs": [],
   "source": [
    "# Print out summary information on the fit\n",
    "print(arma.summary())"
   ]
  },
  {
   "cell_type": "code",
   "execution_count": null,
   "metadata": {},
   "outputs": [],
   "source": [
    "# Print out the estimate for the constant and for theta\n",
    "print(arma.params)"
   ]
  },
  {
   "cell_type": "code",
   "execution_count": null,
   "metadata": {},
   "outputs": [],
   "source": [
    "# Evaluate the model\n",
    "# Make predictions\n",
    "test_pred = arma.get_forecast(steps=len(test)).predicted_mean\n",
    "\n",
    "# Calculate the RMSE for the predictions on the test set\n",
    "test_mse = mean_squared_error(test['Simulated_Users'], test_pred)\n",
    "rmse = sqrt(test_mse)\n",
    "\n",
    "print(f'Test Data RMSE: {rmse}')"
   ]
  },
  {
   "cell_type": "code",
   "execution_count": null,
   "metadata": {},
   "outputs": [],
   "source": [
    "# Plot the training data, actual test data, and predictions\n",
    "plt.figure(figsize=(12, 6))\n",
    "plt.plot(train['Simulated_Users'], label='Training Data')\n",
    "plt.plot(test_pred, label='ARIMA Predictions', color='red')\n",
    "plt.title('ARIMA Model Predictions')\n",
    "plt.xlabel('Time')\n",
    "plt.ylabel('Simulated Users')\n",
    "plt.legend()\n",
    "plt.show()"
   ]
  },
  {
   "cell_type": "code",
   "execution_count": null,
   "metadata": {},
   "outputs": [],
   "source": [
    "# Plot diagnostics for the statistical model\n",
    "arma.plot_diagnostics(figsize=(15, 10))\n",
    "plt.show()"
   ]
  },
  {
   "cell_type": "markdown",
   "metadata": {},
   "source": [
    "## 12.3 Model 3: SARIMA Model"
   ]
  },
  {
   "cell_type": "code",
   "execution_count": null,
   "metadata": {},
   "outputs": [],
   "source": [
    "\n",
    "# Split the data into train and test sets (80% train, 20% test in this example)\n",
    "n = len(df)\n",
    "train = df.iloc[:int(n*0.8)]\n",
    "test = df.iloc[int(n*0.8):]"
   ]
  },
  {
   "cell_type": "code",
   "execution_count": null,
   "metadata": {},
   "outputs": [],
   "source": [
    "# Fit SARIMA model\n",
    "model = SARIMAX(train['Simulated_Users'], order=(1, 1, 1), seasonal_order=(1, 1, 1, 12))"
   ]
  },
  {
   "cell_type": "code",
   "execution_count": null,
   "metadata": {},
   "outputs": [],
   "source": [
    "# Fit the model to data\n",
    "result = model.fit()"
   ]
  },
  {
   "cell_type": "code",
   "execution_count": null,
   "metadata": {},
   "outputs": [],
   "source": [
    "# Summary of the SARIMA model\n",
    "print(result.summary())"
   ]
  },
  {
   "cell_type": "code",
   "execution_count": null,
   "metadata": {},
   "outputs": [],
   "source": [
    "# Print out the estimate for the constant and for theta\n",
    "print(result.params)"
   ]
  },
  {
   "cell_type": "code",
   "execution_count": null,
   "metadata": {},
   "outputs": [],
   "source": [
    "# Evaluate the model\n",
    "# Make predictions\n",
    "test_pred = result.get_forecast(steps=len(test)).predicted_mean\n",
    "\n",
    "# Calculate the RMSE for the predictions on the test set\n",
    "test_mse = mean_squared_error(test['Simulated_Users'], test_pred)\n",
    "rmse = sqrt(test_mse)\n",
    "\n",
    "print(f'Test Data RMSE: {rmse}')"
   ]
  },
  {
   "cell_type": "code",
   "execution_count": null,
   "metadata": {},
   "outputs": [],
   "source": [
    "# Plot actual vs. predicted values\n",
    "plt.figure(figsize=(12, 6))\n",
    "plt.plot(train['Simulated_Users'], label='Actual')\n",
    "plt.plot(test_pred, color='red', label='Predicted')\n",
    "plt.legend()\n",
    "plt.title('Actual vs. Predicted Values')\n",
    "plt.xlabel('Time')\n",
    "plt.ylabel('Simulated Users')\n",
    "plt.show()"
   ]
  },
  {
   "cell_type": "code",
   "execution_count": null,
   "metadata": {},
   "outputs": [],
   "source": [
    "# Plot diagnostics for the statistical model\n",
    "result.plot_diagnostics(figsize=(15, 10))\n",
    "plt.show()"
   ]
  },
  {
   "cell_type": "markdown",
   "metadata": {},
   "source": [
    "## 12.4 Model 4: PMDARIMA(auto_arima)"
   ]
  },
  {
   "cell_type": "code",
   "execution_count": null,
   "metadata": {},
   "outputs": [],
   "source": [
    "# Split your data\n",
    "train, test = train_test_split(df, train_size=0.8)"
   ]
  },
  {
   "cell_type": "code",
   "execution_count": null,
   "metadata": {},
   "outputs": [],
   "source": [
    "# Fit ARIMA model using auto_arima\n",
    "model = pm.auto_arima(train, start_p=0, start_q=0, start_P=0, start_Q=0, max_p=5, max_q=5, max_P=5, max_Q=5,\n",
    "                             seasonal=True, m=12, d=1, D=1, trace=True, error_action='ignore', suppress_warnings=True,\n",
    "                             stepwise=True, with_intercept=False)"
   ]
  },
  {
   "cell_type": "code",
   "execution_count": null,
   "metadata": {},
   "outputs": [],
   "source": [
    "# Fit your model\n",
    "model = pm.auto_arima(train, seasonal=True, m=12)"
   ]
  },
  {
   "cell_type": "code",
   "execution_count": null,
   "metadata": {
    "scrolled": false
   },
   "outputs": [],
   "source": [
    "# Summary of the ARIMA model\n",
    "print(model.summary())"
   ]
  },
  {
   "cell_type": "code",
   "execution_count": null,
   "metadata": {},
   "outputs": [],
   "source": [
    "# Make predictions\n",
    "test_pred = model.predict(n_periods=len(test))\n",
    "\n",
    "# Calculate the RMSE for the predictions on the test set\n",
    "test_mse = mean_squared_error(test['Simulated_Users'], test_pred)\n",
    "rmse = sqrt(test_mse)\n",
    "\n",
    "print(f'Test Data RMSE: {rmse}')"
   ]
  },
  {
   "cell_type": "code",
   "execution_count": null,
   "metadata": {},
   "outputs": [],
   "source": [
    "# Split data by row indices to maintain the order for time series\n",
    "train_size = int(len(df) * 0.8)\n",
    "train, test = df.iloc[:train_size], df.iloc[train_size:]\n",
    "\n",
    "# Extract date for x-axis from the DataFrame\n",
    "dates = df['Day_Index']\n",
    "\n",
    "# Visualize the forecasts (blue=train, green=forecasts)\n",
    "plt.figure(figsize=(15, 8))\n",
    "plt.plot(dates[:train_size], train['Simulated_Users'], label='Training Data')\n",
    "plt.plot(dates[train_size:], test_pred, c='red', label='Forecasts')\n",
    "\n",
    "# Optional: Rotate the dates on the x-axis for better readability\n",
    "plt.xticks(rotation=45)\n",
    "\n",
    "# Adding labels and title\n",
    "plt.xlabel('Date')\n",
    "plt.ylabel('Value')\n",
    "plt.title('ARIMA Forecast using pmdarima')\n",
    "plt.legend()\n",
    "plt.show()"
   ]
  },
  {
   "cell_type": "code",
   "execution_count": null,
   "metadata": {},
   "outputs": [],
   "source": [
    "# Plot diagnostics for the statistical model\n",
    "model.plot_diagnostics(figsize=(15, 12))\n",
    "plt.show()"
   ]
  },
  {
   "cell_type": "markdown",
   "metadata": {},
   "source": [
    "# 13. Evaluation"
   ]
  },
  {
   "cell_type": "markdown",
   "metadata": {},
   "source": [
    "The Root Mean Squared Error (MSE) is a common evaluation metric used in regression and time series analysis to measure the average of the squares of the errors—that is, the average squared difference between the estimated values and the actual value. A lower RMSE indicates a better fit of the model to the data. \n",
    "\n",
    "**Model 1: ARIMA(2,0) Model**\n",
    "\n",
    "Test Data RMSE: 7656.842640784908\n",
    "\n",
    "This is an ARIMA model with parameters (2,0,0), indicating an autoregressive model of order 2 without differencing or moving average components.\n",
    "\n",
    "The RMSE is relatively low, but not the lowest among the models presented.\n",
    "\n",
    "**Model 2: ARIMA(2,1) Model**\n",
    "\n",
    "Test Data RMSE: 7511.288538092337\n",
    "\n",
    "This model is an ARIMA model with parameters (2,1,0), suggesting an autoregressive model of order 2 with first-order differencing.\n",
    "\n",
    "The RMSE here is lower than that of Model 1, indicating that the inclusion of differencing (integrated component) has improved the model's performance.\n",
    "\n",
    "**Model 3: SARIMA Model**\n",
    "\n",
    "Test Data RMSE: 5859.720570367647\n",
    "\n",
    "This model is a SARIMA model, which extends ARIMA by adding seasonal components.\n",
    "\n",
    "the RMSE for this model is lower than the other 2 models, suggesting that the model is a good fit to the data.\n",
    "\n",
    "**Model 4: PMDARIMA (auto_arima)**\n",
    "\n",
    "Test Data RMSE: 6734.911629193073\n",
    "\n",
    "This model is fitted using auto_arima from the pmdarima package, which automatically determines the best ARIMA model.\n",
    "The RMSE is very close to that of Model 3, indicating a similarly good fit to the data."
   ]
  },
  {
   "cell_type": "markdown",
   "metadata": {},
   "source": [
    "# 14. Conclusion"
   ]
  },
  {
   "cell_type": "markdown",
   "metadata": {},
   "source": [
    "In conclusion, the evaluation of the different time series models applied to the dataset provides valuable insights into their performance. \n",
    "\n",
    "While the PMDARIMA model (Model 4) offers a competitive RMSE close to that of SARIMA, its advantage lies in the automatic selection of model parameters, showcasing the effectiveness of the pmdarima package. The ARIMA models (Models 1 and 2) also provide reasonable predictive capabilities, with Model 2, incorporating differencing, outperforming Model 1.\n",
    "\n",
    "The SARIMA model (Model 3) stands out with the lowest RMSE, suggesting that it provides the best predictive performance among the considered models. The inclusion of seasonal factors enhances the model's ability to capture patterns and fluctuations in the data."
   ]
  },
  {
   "cell_type": "markdown",
   "metadata": {},
   "source": [
    "# 15. Deployment"
   ]
  }
 ],
 "metadata": {
  "kernelspec": {
   "display_name": "Python (learn-env)",
   "language": "python",
   "name": "learn-env"
  },
  "language_info": {
   "codemirror_mode": {
    "name": "ipython",
    "version": 3
   },
   "file_extension": ".py",
   "mimetype": "text/x-python",
   "name": "python",
   "nbconvert_exporter": "python",
   "pygments_lexer": "ipython3",
   "version": "3.8.5"
  }
 },
 "nbformat": 4,
 "nbformat_minor": 4
}
